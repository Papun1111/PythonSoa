{
 "cells": [
  {
   "cell_type": "code",
   "execution_count": 1,
   "id": "e99946cb-4eae-4131-8f32-f0eebb00efbe",
   "metadata": {},
   "outputs": [],
   "source": [
    "import numpy as np\n",
    "\n",
    "arr = np.ones((2, 3))  # Creates a 2x3 array filled with ones\n",
    "arr2 = np.zeros((3, 3))  # Creates a 3x3 array filled with zeros\n",
    "arr3 = np.full((2, 5), 7)  # Correctly creates a 2x5 array filled with the number 7\n"
   ]
  },
  {
   "cell_type": "code",
   "execution_count": 2,
   "id": "7fb71165-5fc6-463c-81e8-5fa4df6c7983",
   "metadata": {},
   "outputs": [
    {
     "name": "stdout",
     "output_type": "stream",
     "text": [
      "[[ 0  1]\n",
      " [ 8 27]]\n",
      "[[ 7  8]\n",
      " [ 9 10]]\n",
      "[[0 2]\n",
      " [4 6]]\n"
     ]
    }
   ],
   "source": [
    "import numpy as np\n",
    "arr = np.arange(4) \n",
    "arr_reshaped = arr.reshape(2, 2)\n",
    "print(arr_reshaped**3)\n",
    "print(arr_reshaped+7)\n",
    "print(arr_reshaped*2)"
   ]
  },
  {
   "cell_type": "code",
   "execution_count": 3,
   "id": "6f9462c6-5fde-455a-93c6-79adfca5dbe8",
   "metadata": {},
   "outputs": [
    {
     "data": {
      "text/plain": [
       "array([[18, 32, 42],\n",
       "       [48, 50, 48],\n",
       "       [42, 32, 18]])"
      ]
     },
     "execution_count": 3,
     "metadata": {},
     "output_type": "execute_result"
    }
   ],
   "source": [
    "arr1=np.arange(2,19,2).reshape(3,3)\n",
    "arr2=np.arange(9,0,-1).reshape(3,3)\n",
    "arr1*arr2"
   ]
  },
  {
   "cell_type": "code",
   "execution_count": 4,
   "id": "f8c1faf1-2b24-4644-aafa-d53a6844fbc7",
   "metadata": {},
   "outputs": [
    {
     "name": "stdout",
     "output_type": "stream",
     "text": [
      "[[4 3]\n",
      " [2 1]]\n"
     ]
    }
   ],
   "source": [
    "import numpy as np\n",
    "\n",
    "twoarr = np.array([[1, 2], [3, 4]])\n",
    "twoarr[[0, 1]] = twoarr[[1, 0]]\n",
    "twoarr[:, [0, 1]] = twoarr[:, [1, 0]]\n",
    "print(twoarr)\n"
   ]
  },
  {
   "cell_type": "code",
   "execution_count": 5,
   "id": "ce5016b0-46b8-4683-ad1d-f254bf48adb3",
   "metadata": {},
   "outputs": [
    {
     "name": "stdout",
     "output_type": "stream",
     "text": [
      "[[ 2  3  5  7 11]\n",
      " [13 17 19 23 29]]\n"
     ]
    }
   ],
   "source": [
    "list1=[2,3,5,7,11]\n",
    "list2=[13,17,19,23,29]\n",
    "npa=np.array([list1,list2])\n",
    "print(npa)"
   ]
  },
  {
   "cell_type": "code",
   "execution_count": 6,
   "id": "9cc51bf3-b0f8-42af-af91-368a723b0872",
   "metadata": {},
   "outputs": [
    {
     "name": "stdout",
     "output_type": "stream",
     "text": [
      "[ 1  2  4  8 16 32]\n",
      "[ 1  2  4  8 16 32]\n",
      "[[ 1  2  4]\n",
      " [ 8 16 32]]\n"
     ]
    }
   ],
   "source": [
    "npa=np.array([2**x for x in range(0,6,1)]).reshape(2,3)\n",
    "print(npa.flatten())\n",
    "print(npa.ravel())\n",
    "print(npa)"
   ]
  },
  {
   "cell_type": "code",
   "execution_count": 7,
   "id": "ec75f84e-a074-4c57-aa22-3dd3e207a293",
   "metadata": {},
   "outputs": [
    {
     "name": "stdout",
     "output_type": "stream",
     "text": [
      "5\n"
     ]
    }
   ],
   "source": [
    "from statistics import mode,mean\n",
    "numbers = [6, 9, 5, 1, 7, 5, 1, 0, 1, 5,5,0,8,9,0,7,0,7,6,5,1,1,9,5,3,8,7,9,6,3,4,5,9,7,2,7,0,2,2,6]\n",
    "npa=np.array(numbers)\n",
    "print(mode(npa))"
   ]
  },
  {
   "cell_type": "code",
   "execution_count": 8,
   "id": "c2cedf1a-6693-4a5b-a28e-77cafd8642e4",
   "metadata": {},
   "outputs": [
    {
     "name": "stdout",
     "output_type": "stream",
     "text": [
      "[[1 2 3]\n",
      " [4 5 6]]\n"
     ]
    }
   ],
   "source": [
    "npa = np.linspace(1.1, 6.6, num=6).reshape(2, 3)\n",
    "npa_int = npa.astype(int)\n",
    "print(npa_int)"
   ]
  },
  {
   "cell_type": "code",
   "execution_count": 9,
   "id": "a2713743-e55f-4d41-be7b-173730b99f15",
   "metadata": {},
   "outputs": [
    {
     "name": "stdout",
     "output_type": "stream",
     "text": [
      "  1   2   3   4   5 \n",
      "  6   7   8   9 100 \n"
     ]
    }
   ],
   "source": [
    "import numpy as np\n",
    "def format_2darray(arr):\n",
    "    max_val = 0\n",
    "    for i in arr:\n",
    "        for j in i:\n",
    "            if j > max_val:\n",
    "                max_val = j\n",
    "    count = 0\n",
    "    while max_val > 0:\n",
    "        max_val //= 10\n",
    "        count += 1\n",
    "    for i in arr:\n",
    "        for j in i:\n",
    "            print(f\"{j:>{count}}\", end=' ') \n",
    "        print()\n",
    "num = np.array([[1, 2, 3, 4, 5], [6, 7, 8, 9, 100]])\n",
    "format_2darray(num)\n"
   ]
  },
  {
   "cell_type": "code",
   "execution_count": 10,
   "id": "738042b8-15c3-4805-af2e-23fe301c73f2",
   "metadata": {},
   "outputs": [
    {
     "name": "stdout",
     "output_type": "stream",
     "text": [
      "[[ 1  2  3  4  5]\n",
      " [ 6  7  8  9 10]\n",
      " [11 12 13 14 15]]\n",
      "[ 6  7  8  9 10]\n",
      "[ 5 10 15]\n",
      "[[ 1  2  3  4  5]\n",
      " [ 6  7  8  9 10]]\n",
      "10\n",
      "[[ 6  8 10]\n",
      " [11 13 15]]\n"
     ]
    }
   ],
   "source": [
    "num=np.arange(1,16,1).reshape(3,5)\n",
    "print(num)\n",
    "print(num[1])\n",
    "print(num[:,4])\n",
    "print(num[0:2])\n",
    "print(num[1,4])\n",
    "print(num[1:3,[0,2,4]])\n"
   ]
  },
  {
   "cell_type": "code",
   "execution_count": 11,
   "id": "fab18f14-1bb1-4e58-9b0b-9a706a426faf",
   "metadata": {},
   "outputs": [
    {
     "name": "stdout",
     "output_type": "stream",
     "text": [
      "[[0 1]\n",
      " [2 3]\n",
      " [4 5]\n",
      " [6 7]]\n",
      "[[0 1 4 5]\n",
      " [2 3 6 7]]\n",
      "[[0 1 4 5]\n",
      " [2 3 6 7]\n",
      " [0 1 4 5]\n",
      " [2 3 6 7]]\n",
      "[[0 1 0 1]\n",
      " [2 3 2 3]\n",
      " [4 5 4 5]\n",
      " [6 7 6 7]]\n"
     ]
    }
   ],
   "source": [
    "array1=np.array([[0,1],[2,3]])\n",
    "array2=np.array([[4,5],[6,7]])\n",
    "array3=np.vstack((array1,array2))\n",
    "array4=np.hstack((array1,array2))\n",
    "print(array3)\n",
    "print(array4)\n",
    "array5=np.vstack((array4,array4))\n",
    "print(array5)\n",
    "array6=np.hstack((array3,array3))\n",
    "print(array6)"
   ]
  },
  {
   "cell_type": "code",
   "execution_count": 12,
   "id": "4dd2f36b-6b40-40e4-8836-0fae8c8aae9c",
   "metadata": {},
   "outputs": [
    {
     "name": "stdout",
     "output_type": "stream",
     "text": [
      "[[0 1]\n",
      " [2 3]]\n",
      "[[4 5]\n",
      " [6 7]]\n",
      "[[0 1]\n",
      " [2 3]\n",
      " [4 5]\n",
      " [6 7]]\n",
      "[[0 1 4 5]\n",
      " [2 3 6 7]]\n",
      "[[0 1 4 5]\n",
      " [2 3 6 7]\n",
      " [0 1 4 5]\n",
      " [2 3 6 7]]\n",
      "[[0 1 4 5]\n",
      " [2 3 6 7]]\n"
     ]
    }
   ],
   "source": [
    "array1=np.array([[0,1],[2,3]])\n",
    "array2=np.array([[4,5],[6,7]])\n",
    "array3=np.concatenate((array1,array2),axis=0)\n",
    "array4=np.concatenate((array1,array2),axis=1)\n",
    "array5=np.concatenate((array4,array4),axis=0)\n",
    "array6=np.concatenate((array1,array2),axis=1)\n",
    "print(array1)\n",
    "print(array2)\n",
    "print(array3)\n",
    "print(array4)\n",
    "print(array5)\n",
    "print(array6)"
   ]
  },
  {
   "cell_type": "code",
   "execution_count": 13,
   "id": "30ff15a8-7578-4837-bce4-321020c61ed8",
   "metadata": {},
   "outputs": [
    {
     "data": {
      "text/plain": [
       "array([['-', '*', '-', '*', '-', '*', '-', '*'],\n",
       "       ['*', '-', '*', '-', '*', '-', '*', '-'],\n",
       "       ['-', '*', '-', '*', '-', '*', '-', '*'],\n",
       "       ['*', '-', '*', '-', '*', '-', '*', '-'],\n",
       "       ['-', '*', '-', '*', '-', '*', '-', '*'],\n",
       "       ['*', '-', '*', '-', '*', '-', '*', '-'],\n",
       "       ['-', '*', '-', '*', '-', '*', '-', '*'],\n",
       "       ['*', '-', '*', '-', '*', '-', '*', '-']], dtype='<U1')"
      ]
     },
     "execution_count": 13,
     "metadata": {},
     "output_type": "execute_result"
    }
   ],
   "source": [
    "import numpy as np\n",
    "pattern = np.array([['-', '*'], \n",
    "                         ['*', '-']])\n",
    "\n",
    "\n",
    "checkerboard = np.tile(pattern, (4, 4)) \n",
    "\n",
    "checkerboard\n"
   ]
  },
  {
   "cell_type": "code",
   "execution_count": 14,
   "id": "fe0d1bbb-72f3-44eb-a047-acb8a05f5026",
   "metadata": {},
   "outputs": [
    {
     "name": "stdout",
     "output_type": "stream",
     "text": [
      "[[43 83 28 32 65]\n",
      " [ 4 81 41  7 25]\n",
      " [32 77 27 81 33]\n",
      " [29 46 67 41 79]\n",
      " [70 38 92 61 85]]\n"
     ]
    },
    {
     "data": {
      "text/plain": [
       "array([0, 0, 0, 0, 1, 0, 0, 1, 0, 0, 0, 0, 0, 0, 0, 0, 0, 0, 0, 0, 0, 0,\n",
       "       0, 0, 0, 1, 0, 1, 1, 1, 0, 0, 2, 1, 0, 0, 0, 0, 1, 0, 0, 2, 0, 1,\n",
       "       0, 0, 1, 0, 0, 0, 0, 0, 0, 0, 0, 0, 0, 0, 0, 0, 0, 1, 0, 0, 0, 1,\n",
       "       0, 1, 0, 0, 1, 0, 0, 0, 0, 0, 0, 1, 0, 1, 0, 2, 0, 1, 0, 1, 0, 0,\n",
       "       0, 0, 0, 0, 1], dtype=int64)"
      ]
     },
     "execution_count": 14,
     "metadata": {},
     "output_type": "execute_result"
    }
   ],
   "source": [
    "random_array = np.random.randint(0, 100, size=(5, 5))\n",
    "print(random_array)\n",
    "np.bincount(random_array.flatten())"
   ]
  },
  {
   "cell_type": "code",
   "execution_count": 15,
   "id": "3d32256e-f714-4845-ac57-5f1891f4a9e7",
   "metadata": {},
   "outputs": [
    {
     "name": "stdout",
     "output_type": "stream",
     "text": [
      "Array 1 (1D): [1 2 2 3 4 4 4 5]\n",
      "Median: 3.5\n",
      "Mode: 4\n",
      "\n",
      "Array 2 (2D):\n",
      "[[1 2 2]\n",
      " [3 4 4]\n",
      " [4 5 6]]\n",
      "Median: 4.0\n",
      "Mode: 4\n",
      "\n",
      "Array 3 (3D):\n",
      "[[[9 6 5]\n",
      "  [9 8 2]\n",
      "  [2 1 5]]\n",
      "\n",
      " [[3 1 3]\n",
      "  [6 5 4]\n",
      "  [1 6 2]]\n",
      "\n",
      " [[3 7 5]\n",
      "  [8 2 7]\n",
      "  [7 5 3]]]\n",
      "Median: 5.0\n",
      "Mode: 5\n"
     ]
    }
   ],
   "source": [
    "import numpy as np\n",
    "\n",
    "def median(arr):\n",
    "    return np.median(arr)\n",
    "\n",
    "def mode(arr):\n",
    "    values, counts = np.unique(arr, return_counts=True)\n",
    "    max_count_index = np.argmax(counts)\n",
    "    return values[max_count_index]\n",
    "\n",
    "arr1 = np.array([1, 2, 2, 3, 4, 4, 4, 5])\n",
    "print(f\"Array 1 (1D): {arr1}\")\n",
    "print(f\"Median: {median(arr1)}\")\n",
    "print(f\"Mode: {mode(arr1)}\")\n",
    "\n",
    "arr2 = np.array([[1, 2, 2], [3, 4, 4], [4, 5, 6]])\n",
    "print(f\"\\nArray 2 (2D):\\n{arr2}\")\n",
    "print(f\"Median: {median(arr2)}\")\n",
    "print(f\"Mode: {mode(arr2)}\")\n",
    "\n",
    "arr3 = np.random.randint(1, 10, (3, 3, 3))\n",
    "print(f\"\\nArray 3 (3D):\\n{arr3}\")\n",
    "print(f\"Median: {median(arr3)}\")\n",
    "print(f\"Mode: {mode(arr3)}\")\n"
   ]
  },
  {
   "cell_type": "code",
   "execution_count": 16,
   "id": "309b3799-bb6b-4fee-9aa1-5ecdfc5b7d74",
   "metadata": {},
   "outputs": [
    {
     "name": "stdout",
     "output_type": "stream",
     "text": [
      "Original array (9x9x2):\n",
      " [[[0.13004903 0.91070233]\n",
      "  [0.38253366 0.08174076]\n",
      "  [0.80976083 0.6446278 ]\n",
      "  [0.37435589 0.02531535]\n",
      "  [0.77468852 0.21837172]\n",
      "  [0.12223364 0.85828597]\n",
      "  [0.73848835 0.4829873 ]\n",
      "  [0.70282277 0.64868359]\n",
      "  [0.45912647 0.93487111]]\n",
      "\n",
      " [[0.26571015 0.73347833]\n",
      "  [0.80201593 0.12566438]\n",
      "  [0.66378457 0.76011632]\n",
      "  [0.54998078 0.32544916]\n",
      "  [0.47795433 0.63457281]\n",
      "  [0.94751125 0.29282086]\n",
      "  [0.62421242 0.86824419]\n",
      "  [0.08426525 0.12356   ]\n",
      "  [0.01110547 0.9976676 ]]\n",
      "\n",
      " [[0.54659109 0.12994111]\n",
      "  [0.71411646 0.1373469 ]\n",
      "  [0.30368864 0.32813955]\n",
      "  [0.7648872  0.98192961]\n",
      "  [0.02156887 0.95517345]\n",
      "  [0.59992106 0.31771202]\n",
      "  [0.12786599 0.52382413]\n",
      "  [0.40310485 0.57902729]\n",
      "  [0.69279661 0.25903112]]\n",
      "\n",
      " [[0.08750376 0.3626362 ]\n",
      "  [0.64186037 0.26385505]\n",
      "  [0.86465944 0.39040473]\n",
      "  [0.51808675 0.97572963]\n",
      "  [0.75534127 0.19706952]\n",
      "  [0.79306145 0.62193347]\n",
      "  [0.14301834 0.68068609]\n",
      "  [0.78856523 0.17763919]\n",
      "  [0.59150043 0.61126687]]\n",
      "\n",
      " [[0.42700047 0.23732461]\n",
      "  [0.60193421 0.11814466]\n",
      "  [0.99595401 0.38647647]\n",
      "  [0.39242175 0.64773334]\n",
      "  [0.52935295 0.34078272]\n",
      "  [0.0799424  0.0617392 ]\n",
      "  [0.13365713 0.51599347]\n",
      "  [0.04066724 0.2315797 ]\n",
      "  [0.44711348 0.57392395]]\n",
      "\n",
      " [[0.14242617 0.169078  ]\n",
      "  [0.75534471 0.92853219]\n",
      "  [0.4084508  0.60374507]\n",
      "  [0.13938546 0.34657849]\n",
      "  [0.97593458 0.28064288]\n",
      "  [0.24515622 0.19981544]\n",
      "  [0.08561377 0.62973775]\n",
      "  [0.24122279 0.66625685]\n",
      "  [0.02271964 0.30155645]]\n",
      "\n",
      " [[0.05564233 0.11248121]\n",
      "  [0.84571817 0.41085134]\n",
      "  [0.77248477 0.14636774]\n",
      "  [0.67023282 0.05327644]\n",
      "  [0.74688749 0.75893983]\n",
      "  [0.59438247 0.08926767]\n",
      "  [0.95199401 0.63478528]\n",
      "  [0.46359244 0.19050196]\n",
      "  [0.13732138 0.97360053]]\n",
      "\n",
      " [[0.161932   0.95908336]\n",
      "  [0.22496543 0.70040313]\n",
      "  [0.35809773 0.46654872]\n",
      "  [0.21933056 0.59343034]\n",
      "  [0.2622689  0.97032842]\n",
      "  [0.75567356 0.21790928]\n",
      "  [0.02369885 0.1905664 ]\n",
      "  [0.27727452 0.1055465 ]\n",
      "  [0.14114663 0.46407221]]\n",
      "\n",
      " [[0.14665051 0.13981385]\n",
      "  [0.76903275 0.18107073]\n",
      "  [0.50264646 0.5791856 ]\n",
      "  [0.12770164 0.00620166]\n",
      "  [0.23455754 0.56801722]\n",
      "  [0.7128978  0.05392646]\n",
      "  [0.55526111 0.10899959]\n",
      "  [0.28429993 0.5971067 ]\n",
      "  [0.17270216 0.8394437 ]]]\n",
      "\n",
      "Extracted subarray (5x5x2):\n",
      " [[[0.30368864 0.32813955]\n",
      "  [0.7648872  0.98192961]\n",
      "  [0.02156887 0.95517345]\n",
      "  [0.59992106 0.31771202]\n",
      "  [0.12786599 0.52382413]]\n",
      "\n",
      " [[0.86465944 0.39040473]\n",
      "  [0.51808675 0.97572963]\n",
      "  [0.75534127 0.19706952]\n",
      "  [0.79306145 0.62193347]\n",
      "  [0.14301834 0.68068609]]\n",
      "\n",
      " [[0.99595401 0.38647647]\n",
      "  [0.39242175 0.64773334]\n",
      "  [0.52935295 0.34078272]\n",
      "  [0.0799424  0.0617392 ]\n",
      "  [0.13365713 0.51599347]]\n",
      "\n",
      " [[0.4084508  0.60374507]\n",
      "  [0.13938546 0.34657849]\n",
      "  [0.97593458 0.28064288]\n",
      "  [0.24515622 0.19981544]\n",
      "  [0.08561377 0.62973775]]\n",
      "\n",
      " [[0.77248477 0.14636774]\n",
      "  [0.67023282 0.05327644]\n",
      "  [0.74688749 0.75893983]\n",
      "  [0.59438247 0.08926767]\n",
      "  [0.95199401 0.63478528]]]\n"
     ]
    }
   ],
   "source": [
    "import numpy as np\n",
    "\n",
    "arr = np.random.random((9, 9, 2))\n",
    "print(\"Original array (9x9x2):\\n\", arr)\n",
    "\n",
    "arr2 = arr[2:7, 2:7, :]\n",
    "print(\"\\nExtracted subarray (5x5x2):\\n\", arr2)"
   ]
  },
  {
   "cell_type": "code",
   "execution_count": 17,
   "id": "bf3a8420-2c80-4305-9466-21ea4cd0e585",
   "metadata": {},
   "outputs": [
    {
     "name": "stdout",
     "output_type": "stream",
     "text": [
      "[[0.41133622 0.74681923 0.96047561 0.36054265]\n",
      " [0.85198813 0.7774197  0.00522787 0.03516748]\n",
      " [0.59024962 0.75103579 0.86802627 0.99886401]\n",
      " [0.44657752 0.13073875 0.69334018 0.44743635]]\n",
      "[[0.41133622 0.13073875 0.00522787 0.03516748]\n",
      " [0.44657752 0.74681923 0.69334018 0.36054265]\n",
      " [0.59024962 0.75103579 0.86802627 0.44743635]\n",
      " [0.85198813 0.7774197  0.96047561 0.99886401]]\n"
     ]
    }
   ],
   "source": [
    "arr=np.random.random((4,4))\n",
    "print(arr)\n",
    "arr.sort(axis=0)\n",
    "print(arr)"
   ]
  },
  {
   "cell_type": "code",
   "execution_count": null,
   "id": "6745bbef-b772-4095-af86-609471eef40f",
   "metadata": {},
   "outputs": [],
   "source": []
  },
  {
   "cell_type": "code",
   "execution_count": null,
   "id": "b81e2efc-44c4-4c60-91ca-868b27f50964",
   "metadata": {},
   "outputs": [],
   "source": []
  }
 ],
 "metadata": {
  "kernelspec": {
   "display_name": "Python 3 (ipykernel)",
   "language": "python",
   "name": "python3"
  },
  "language_info": {
   "codemirror_mode": {
    "name": "ipython",
    "version": 3
   },
   "file_extension": ".py",
   "mimetype": "text/x-python",
   "name": "python",
   "nbconvert_exporter": "python",
   "pygments_lexer": "ipython3",
   "version": "3.12.7"
  }
 },
 "nbformat": 4,
 "nbformat_minor": 5
}
