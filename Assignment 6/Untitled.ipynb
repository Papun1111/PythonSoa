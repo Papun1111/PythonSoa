{
 "cells": [
  {
   "cell_type": "code",
   "execution_count": 1,
   "id": "e99946cb-4eae-4131-8f32-f0eebb00efbe",
   "metadata": {},
   "outputs": [],
   "source": [
    "import numpy as np\n",
    "\n",
    "arr = np.ones((2, 3))  # Creates a 2x3 array filled with ones\n",
    "arr2 = np.zeros((3, 3))  # Creates a 3x3 array filled with zeros\n",
    "arr3 = np.full((2, 5), 7)  # Correctly creates a 2x5 array filled with the number 7\n"
   ]
  },
  {
   "cell_type": "code",
   "execution_count": 2,
   "id": "7fb71165-5fc6-463c-81e8-5fa4df6c7983",
   "metadata": {},
   "outputs": [
    {
     "name": "stdout",
     "output_type": "stream",
     "text": [
      "[[ 0  1]\n",
      " [ 8 27]]\n",
      "[[ 7  8]\n",
      " [ 9 10]]\n",
      "[[0 2]\n",
      " [4 6]]\n"
     ]
    }
   ],
   "source": [
    "import numpy as np\n",
    "arr = np.arange(4) \n",
    "arr_reshaped = arr.reshape(2, 2)\n",
    "print(arr_reshaped**3)\n",
    "print(arr_reshaped+7)\n",
    "print(arr_reshaped*2)"
   ]
  },
  {
   "cell_type": "code",
   "execution_count": 3,
   "id": "6f9462c6-5fde-455a-93c6-79adfca5dbe8",
   "metadata": {},
   "outputs": [
    {
     "data": {
      "text/plain": [
       "array([[18, 32, 42],\n",
       "       [48, 50, 48],\n",
       "       [42, 32, 18]])"
      ]
     },
     "execution_count": 3,
     "metadata": {},
     "output_type": "execute_result"
    }
   ],
   "source": [
    "arr1=np.arange(2,19,2).reshape(3,3)\n",
    "arr2=np.arange(9,0,-1).reshape(3,3)\n",
    "arr1*arr2"
   ]
  },
  {
   "cell_type": "code",
   "execution_count": 4,
   "id": "f8c1faf1-2b24-4644-aafa-d53a6844fbc7",
   "metadata": {},
   "outputs": [
    {
     "name": "stdout",
     "output_type": "stream",
     "text": [
      "[[4 3]\n",
      " [2 1]]\n"
     ]
    }
   ],
   "source": [
    "import numpy as np\n",
    "\n",
    "twoarr = np.array([[1, 2], [3, 4]])\n",
    "twoarr[[0, 1]] = twoarr[[1, 0]]\n",
    "twoarr[:, [0, 1]] = twoarr[:, [1, 0]]\n",
    "print(twoarr)\n"
   ]
  },
  {
   "cell_type": "code",
   "execution_count": 5,
   "id": "ce5016b0-46b8-4683-ad1d-f254bf48adb3",
   "metadata": {},
   "outputs": [
    {
     "name": "stdout",
     "output_type": "stream",
     "text": [
      "[[ 2  3  5  7 11]\n",
      " [13 17 19 23 29]]\n"
     ]
    }
   ],
   "source": [
    "list1=[2,3,5,7,11]\n",
    "list2=[13,17,19,23,29]\n",
    "npa=np.array([list1,list2])\n",
    "print(npa)"
   ]
  },
  {
   "cell_type": "code",
   "execution_count": 6,
   "id": "9cc51bf3-b0f8-42af-af91-368a723b0872",
   "metadata": {},
   "outputs": [
    {
     "name": "stdout",
     "output_type": "stream",
     "text": [
      "[ 1  2  4  8 16 32]\n",
      "[ 1  2  4  8 16 32]\n",
      "[[ 1  2  4]\n",
      " [ 8 16 32]]\n"
     ]
    }
   ],
   "source": [
    "npa=np.array([2**x for x in range(0,6,1)]).reshape(2,3)\n",
    "print(npa.flatten())\n",
    "print(npa.ravel())\n",
    "print(npa)"
   ]
  },
  {
   "cell_type": "code",
   "execution_count": 7,
   "id": "ec75f84e-a074-4c57-aa22-3dd3e207a293",
   "metadata": {},
   "outputs": [
    {
     "name": "stdout",
     "output_type": "stream",
     "text": [
      "5\n"
     ]
    }
   ],
   "source": [
    "from statistics import mode,mean\n",
    "numbers = [6, 9, 5, 1, 7, 5, 1, 0, 1, 5,5,0,8,9,0,7,0,7,6,5,1,1,9,5,3,8,7,9,6,3,4,5,9,7,2,7,0,2,2,6]\n",
    "npa=np.array(numbers)\n",
    "print(mode(npa))"
   ]
  },
  {
   "cell_type": "code",
   "execution_count": 8,
   "id": "c2cedf1a-6693-4a5b-a28e-77cafd8642e4",
   "metadata": {},
   "outputs": [
    {
     "name": "stdout",
     "output_type": "stream",
     "text": [
      "[[1 2 3]\n",
      " [4 5 6]]\n"
     ]
    }
   ],
   "source": [
    "npa = np.linspace(1.1, 6.6, num=6).reshape(2, 3)\n",
    "npa_int = npa.astype(int)\n",
    "print(npa_int)"
   ]
  },
  {
   "cell_type": "code",
   "execution_count": 9,
   "id": "a2713743-e55f-4d41-be7b-173730b99f15",
   "metadata": {},
   "outputs": [
    {
     "name": "stdout",
     "output_type": "stream",
     "text": [
      "  1   2   3   4   5 \n",
      "  6   7   8   9 100 \n"
     ]
    }
   ],
   "source": [
    "import numpy as np\n",
    "def format_2darray(arr):\n",
    "    max_val = 0\n",
    "    for i in arr:\n",
    "        for j in i:\n",
    "            if j > max_val:\n",
    "                max_val = j\n",
    "    count = 0\n",
    "    while max_val > 0:\n",
    "        max_val //= 10\n",
    "        count += 1\n",
    "    for i in arr:\n",
    "        for j in i:\n",
    "            print(f\"{j:>{count}}\", end=' ') \n",
    "        print()\n",
    "num = np.array([[1, 2, 3, 4, 5], [6, 7, 8, 9, 100]])\n",
    "format_2darray(num)\n"
   ]
  },
  {
   "cell_type": "code",
   "execution_count": 10,
   "id": "738042b8-15c3-4805-af2e-23fe301c73f2",
   "metadata": {},
   "outputs": [
    {
     "name": "stdout",
     "output_type": "stream",
     "text": [
      "[[ 1  2  3  4  5]\n",
      " [ 6  7  8  9 10]\n",
      " [11 12 13 14 15]]\n",
      "[ 6  7  8  9 10]\n",
      "[ 5 10 15]\n",
      "[[ 1  2  3  4  5]\n",
      " [ 6  7  8  9 10]]\n",
      "10\n",
      "[[ 6  8 10]\n",
      " [11 13 15]]\n"
     ]
    }
   ],
   "source": [
    "num=np.arange(1,16,1).reshape(3,5)\n",
    "print(num)\n",
    "print(num[1])\n",
    "print(num[:,4])\n",
    "print(num[0:2])\n",
    "print(num[1,4])\n",
    "print(num[1:3,[0,2,4]])\n"
   ]
  },
  {
   "cell_type": "code",
   "execution_count": 11,
   "id": "fab18f14-1bb1-4e58-9b0b-9a706a426faf",
   "metadata": {},
   "outputs": [
    {
     "name": "stdout",
     "output_type": "stream",
     "text": [
      "[[0 1]\n",
      " [2 3]\n",
      " [4 5]\n",
      " [6 7]]\n",
      "[[0 1 4 5]\n",
      " [2 3 6 7]]\n",
      "[[0 1 4 5]\n",
      " [2 3 6 7]\n",
      " [0 1 4 5]\n",
      " [2 3 6 7]]\n",
      "[[0 1 0 1]\n",
      " [2 3 2 3]\n",
      " [4 5 4 5]\n",
      " [6 7 6 7]]\n"
     ]
    }
   ],
   "source": [
    "array1=np.array([[0,1],[2,3]])\n",
    "array2=np.array([[4,5],[6,7]])\n",
    "array3=np.vstack((array1,array2))\n",
    "array4=np.hstack((array1,array2))\n",
    "print(array3)\n",
    "print(array4)\n",
    "array5=np.vstack((array4,array4))\n",
    "print(array5)\n",
    "array6=np.hstack((array3,array3))\n",
    "print(array6)"
   ]
  },
  {
   "cell_type": "code",
   "execution_count": 12,
   "id": "4dd2f36b-6b40-40e4-8836-0fae8c8aae9c",
   "metadata": {},
   "outputs": [
    {
     "name": "stdout",
     "output_type": "stream",
     "text": [
      "[[0 1]\n",
      " [2 3]]\n",
      "[[4 5]\n",
      " [6 7]]\n",
      "[[0 1]\n",
      " [2 3]\n",
      " [4 5]\n",
      " [6 7]]\n",
      "[[0 1 4 5]\n",
      " [2 3 6 7]]\n",
      "[[0 1 4 5]\n",
      " [2 3 6 7]\n",
      " [0 1 4 5]\n",
      " [2 3 6 7]]\n",
      "[[0 1 4 5]\n",
      " [2 3 6 7]]\n"
     ]
    }
   ],
   "source": [
    "array1=np.array([[0,1],[2,3]])\n",
    "array2=np.array([[4,5],[6,7]])\n",
    "array3=np.concatenate((array1,array2),axis=0)\n",
    "array4=np.concatenate((array1,array2),axis=1)\n",
    "array5=np.concatenate((array4,array4),axis=0)\n",
    "array6=np.concatenate((array1,array2),axis=1)\n",
    "print(array1)\n",
    "print(array2)\n",
    "print(array3)\n",
    "print(array4)\n",
    "print(array5)\n",
    "print(array6)"
   ]
  },
  {
   "cell_type": "code",
   "execution_count": 13,
   "id": "30ff15a8-7578-4837-bce4-321020c61ed8",
   "metadata": {},
   "outputs": [
    {
     "data": {
      "text/plain": [
       "array([['-', '*', '-', '*', '-', '*', '-', '*'],\n",
       "       ['*', '-', '*', '-', '*', '-', '*', '-'],\n",
       "       ['-', '*', '-', '*', '-', '*', '-', '*'],\n",
       "       ['*', '-', '*', '-', '*', '-', '*', '-'],\n",
       "       ['-', '*', '-', '*', '-', '*', '-', '*'],\n",
       "       ['*', '-', '*', '-', '*', '-', '*', '-'],\n",
       "       ['-', '*', '-', '*', '-', '*', '-', '*'],\n",
       "       ['*', '-', '*', '-', '*', '-', '*', '-']], dtype='<U1')"
      ]
     },
     "execution_count": 13,
     "metadata": {},
     "output_type": "execute_result"
    }
   ],
   "source": [
    "import numpy as np\n",
    "pattern = np.array([['-', '*'], \n",
    "                         ['*', '-']])\n",
    "\n",
    "\n",
    "checkerboard = np.tile(pattern, (4, 4)) \n",
    "\n",
    "checkerboard\n"
   ]
  },
  {
   "cell_type": "code",
   "execution_count": 14,
   "id": "fe0d1bbb-72f3-44eb-a047-acb8a05f5026",
   "metadata": {},
   "outputs": [
    {
     "name": "stdout",
     "output_type": "stream",
     "text": [
      "[[13 26 44 35 14]\n",
      " [96 73 87 39 52]\n",
      " [44 76 69 43 84]\n",
      " [98 16 64 66 39]\n",
      " [51  7 39 26 74]]\n"
     ]
    },
    {
     "data": {
      "text/plain": [
       "array([0, 0, 0, 0, 0, 0, 0, 1, 0, 0, 0, 0, 0, 1, 1, 0, 1, 0, 0, 0, 0, 0,\n",
       "       0, 0, 0, 0, 2, 0, 0, 0, 0, 0, 0, 0, 0, 1, 0, 0, 0, 3, 0, 0, 0, 1,\n",
       "       2, 0, 0, 0, 0, 0, 0, 1, 1, 0, 0, 0, 0, 0, 0, 0, 0, 0, 0, 0, 1, 0,\n",
       "       1, 0, 0, 1, 0, 0, 0, 1, 1, 0, 1, 0, 0, 0, 0, 0, 0, 0, 1, 0, 0, 1,\n",
       "       0, 0, 0, 0, 0, 0, 0, 0, 1, 0, 1], dtype=int64)"
      ]
     },
     "execution_count": 14,
     "metadata": {},
     "output_type": "execute_result"
    }
   ],
   "source": [
    "random_array = np.random.randint(0, 100, size=(5, 5))\n",
    "print(random_array)\n",
    "np.bincount(random_array.flatten())"
   ]
  },
  {
   "cell_type": "code",
   "execution_count": 15,
   "id": "3d32256e-f714-4845-ac57-5f1891f4a9e7",
   "metadata": {},
   "outputs": [
    {
     "name": "stdout",
     "output_type": "stream",
     "text": [
      "Array 1 (1D): [1 2 2 3 4 4 4 5]\n",
      "Median: 3.5\n",
      "Mode: 4\n",
      "\n",
      "Array 2 (2D):\n",
      "[[1 2 2]\n",
      " [3 4 4]\n",
      " [4 5 6]]\n",
      "Median: 4.0\n",
      "Mode: 4\n",
      "\n",
      "Array 3 (3D):\n",
      "[[[9 4 6]\n",
      "  [5 2 5]\n",
      "  [6 8 8]]\n",
      "\n",
      " [[8 1 2]\n",
      "  [6 2 7]\n",
      "  [6 6 7]]\n",
      "\n",
      " [[1 2 6]\n",
      "  [2 5 3]\n",
      "  [6 9 2]]]\n",
      "Median: 6.0\n",
      "Mode: 6\n"
     ]
    }
   ],
   "source": [
    "import numpy as np\n",
    "\n",
    "def median(arr):\n",
    "    return np.median(arr)\n",
    "\n",
    "def mode(arr):\n",
    "    values, counts = np.unique(arr, return_counts=True)\n",
    "    max_count_index = np.argmax(counts)\n",
    "    return values[max_count_index]\n",
    "\n",
    "arr1 = np.array([1, 2, 2, 3, 4, 4, 4, 5])\n",
    "print(f\"Array 1 (1D): {arr1}\")\n",
    "print(f\"Median: {median(arr1)}\")\n",
    "print(f\"Mode: {mode(arr1)}\")\n",
    "\n",
    "arr2 = np.array([[1, 2, 2], [3, 4, 4], [4, 5, 6]])\n",
    "print(f\"\\nArray 2 (2D):\\n{arr2}\")\n",
    "print(f\"Median: {median(arr2)}\")\n",
    "print(f\"Mode: {mode(arr2)}\")\n",
    "\n",
    "arr3 = np.random.randint(1, 10, (3, 3, 3))\n",
    "print(f\"\\nArray 3 (3D):\\n{arr3}\")\n",
    "print(f\"Median: {median(arr3)}\")\n",
    "print(f\"Mode: {mode(arr3)}\")\n"
   ]
  },
  {
   "cell_type": "code",
   "execution_count": 16,
   "id": "309b3799-bb6b-4fee-9aa1-5ecdfc5b7d74",
   "metadata": {},
   "outputs": [
    {
     "name": "stdout",
     "output_type": "stream",
     "text": [
      "Original array (9x9x2):\n",
      " [[[0.60922822 0.79346459]\n",
      "  [0.22484461 0.18041002]\n",
      "  [0.82639022 0.86416723]\n",
      "  [0.16604229 0.91607313]\n",
      "  [0.4226607  0.78894983]\n",
      "  [0.24865262 0.66167322]\n",
      "  [0.06003967 0.12314752]\n",
      "  [0.09588556 0.73413322]\n",
      "  [0.62029523 0.85066972]]\n",
      "\n",
      " [[0.64363998 0.44880684]\n",
      "  [0.79571587 0.24286986]\n",
      "  [0.10485853 0.72162594]\n",
      "  [0.18414423 0.13638891]\n",
      "  [0.76892816 0.48967139]\n",
      "  [0.71442693 0.08926418]\n",
      "  [0.41441176 0.74602553]\n",
      "  [0.72980083 0.44335129]\n",
      "  [0.16838244 0.8593097 ]]\n",
      "\n",
      " [[0.33401417 0.07522073]\n",
      "  [0.37965368 0.47481285]\n",
      "  [0.81915952 0.08295973]\n",
      "  [0.53397132 0.5822392 ]\n",
      "  [0.06094493 0.83764796]\n",
      "  [0.00648698 0.79303297]\n",
      "  [0.89646732 0.75678963]\n",
      "  [0.16695916 0.29518778]\n",
      "  [0.54914739 0.68371598]]\n",
      "\n",
      " [[0.3739415  0.56785239]\n",
      "  [0.43665681 0.11112433]\n",
      "  [0.62048898 0.21296718]\n",
      "  [0.66297792 0.1897496 ]\n",
      "  [0.67408608 0.18190864]\n",
      "  [0.40532546 0.30947564]\n",
      "  [0.10504998 0.03274606]\n",
      "  [0.5694511  0.7878539 ]\n",
      "  [0.33767241 0.47070272]]\n",
      "\n",
      " [[0.38801529 0.48590681]\n",
      "  [0.81120169 0.50402191]\n",
      "  [0.54968258 0.79726098]\n",
      "  [0.28749784 0.57938995]\n",
      "  [0.58292814 0.32828229]\n",
      "  [0.23480721 0.34884054]\n",
      "  [0.14495182 0.16329455]\n",
      "  [0.09030397 0.64639307]\n",
      "  [0.76270289 0.72017162]]\n",
      "\n",
      " [[0.55049659 0.50934454]\n",
      "  [0.86111267 0.48406975]\n",
      "  [0.63072489 0.35321614]\n",
      "  [0.22602155 0.48411331]\n",
      "  [0.54626327 0.22267703]\n",
      "  [0.20521456 0.57894653]\n",
      "  [0.87937129 0.07543601]\n",
      "  [0.1496671  0.87197026]\n",
      "  [0.89908575 0.97273902]]\n",
      "\n",
      " [[0.80654992 0.13744617]\n",
      "  [0.3112733  0.88434072]\n",
      "  [0.29412615 0.58292428]\n",
      "  [0.65940151 0.83192191]\n",
      "  [0.2918863  0.2627916 ]\n",
      "  [0.87141813 0.93347391]\n",
      "  [0.53560194 0.14295656]\n",
      "  [0.03103207 0.95923637]\n",
      "  [0.16494754 0.74783762]]\n",
      "\n",
      " [[0.99903824 0.79304965]\n",
      "  [0.89563414 0.15339108]\n",
      "  [0.48869512 0.77773611]\n",
      "  [0.8224992  0.59284088]\n",
      "  [0.21332842 0.08507698]\n",
      "  [0.13218948 0.43426659]\n",
      "  [0.40992997 0.06919833]\n",
      "  [0.02580438 0.16336128]\n",
      "  [0.38984592 0.45070346]]\n",
      "\n",
      " [[0.79161753 0.62605882]\n",
      "  [0.37762231 0.71133139]\n",
      "  [0.26341442 0.66360901]\n",
      "  [0.79370105 0.5833014 ]\n",
      "  [0.40593029 0.13844006]\n",
      "  [0.55824792 0.77582238]\n",
      "  [0.07973427 0.55607783]\n",
      "  [0.68567338 0.13502527]\n",
      "  [0.91076178 0.71434735]]]\n",
      "\n",
      "Extracted subarray (5x5x2):\n",
      " [[[0.81915952 0.08295973]\n",
      "  [0.53397132 0.5822392 ]\n",
      "  [0.06094493 0.83764796]\n",
      "  [0.00648698 0.79303297]\n",
      "  [0.89646732 0.75678963]]\n",
      "\n",
      " [[0.62048898 0.21296718]\n",
      "  [0.66297792 0.1897496 ]\n",
      "  [0.67408608 0.18190864]\n",
      "  [0.40532546 0.30947564]\n",
      "  [0.10504998 0.03274606]]\n",
      "\n",
      " [[0.54968258 0.79726098]\n",
      "  [0.28749784 0.57938995]\n",
      "  [0.58292814 0.32828229]\n",
      "  [0.23480721 0.34884054]\n",
      "  [0.14495182 0.16329455]]\n",
      "\n",
      " [[0.63072489 0.35321614]\n",
      "  [0.22602155 0.48411331]\n",
      "  [0.54626327 0.22267703]\n",
      "  [0.20521456 0.57894653]\n",
      "  [0.87937129 0.07543601]]\n",
      "\n",
      " [[0.29412615 0.58292428]\n",
      "  [0.65940151 0.83192191]\n",
      "  [0.2918863  0.2627916 ]\n",
      "  [0.87141813 0.93347391]\n",
      "  [0.53560194 0.14295656]]]\n"
     ]
    }
   ],
   "source": [
    "import numpy as np\n",
    "\n",
    "arr = np.random.random((9, 9, 2))\n",
    "print(\"Original array (9x9x2):\\n\", arr)\n",
    "\n",
    "arr2 = arr[2:7, 2:7, :]\n",
    "print(\"\\nExtracted subarray (5x5x2):\\n\", arr2)"
   ]
  },
  {
   "cell_type": "code",
   "execution_count": 17,
   "id": "bf3a8420-2c80-4305-9466-21ea4cd0e585",
   "metadata": {},
   "outputs": [
    {
     "name": "stdout",
     "output_type": "stream",
     "text": [
      "[[0.82636339 0.2246651  0.99795084 0.6333438 ]\n",
      " [0.26072136 0.0632593  0.08363857 0.10301843]\n",
      " [0.12997765 0.79230619 0.57624603 0.66495476]\n",
      " [0.4528677  0.38510155 0.7658465  0.96501178]]\n",
      "[[0.12997765 0.0632593  0.08363857 0.10301843]\n",
      " [0.26072136 0.2246651  0.57624603 0.6333438 ]\n",
      " [0.4528677  0.38510155 0.7658465  0.66495476]\n",
      " [0.82636339 0.79230619 0.99795084 0.96501178]]\n"
     ]
    }
   ],
   "source": [
    "arr=np.random.random((4,4))\n",
    "print(arr)\n",
    "arr.sort(axis=0)\n",
    "print(arr)"
   ]
  },
  {
   "cell_type": "code",
   "execution_count": 18,
   "id": "6745bbef-b772-4095-af86-609471eef40f",
   "metadata": {},
   "outputs": [
    {
     "name": "stdout",
     "output_type": "stream",
     "text": [
      "0    1\n",
      "1    2\n",
      "2    3\n",
      "3    4\n",
      "Name: A, dtype: int64\n"
     ]
    }
   ],
   "source": [
    "import pandas as pd\n",
    "\n",
    "data = {'A': [1, 2, 3, 4], 'B': [5, 6, 7, 8]}\n",
    "df = pd.DataFrame(data)\n",
    "\n",
    "first_column_series = df.iloc[:, 0]\n",
    "\n",
    "print(first_column_series)\n"
   ]
  },
  {
   "cell_type": "code",
   "execution_count": 19,
   "id": "b81e2efc-44c4-4c60-91ca-868b27f50964",
   "metadata": {},
   "outputs": [
    {
     "name": "stdout",
     "output_type": "stream",
     "text": [
      "1 2 2 "
     ]
    }
   ],
   "source": [
    "import pandas as pd\n",
    "\n",
    "s1 = pd.Series([1, 2, 3, 4, 2])\n",
    "s2 = pd.Series([3, 4, 5, 6])\n",
    "\n",
    "for i in s1:\n",
    "    if i not in s2.values:\n",
    "        print(i, end=\" \")\n"
   ]
  },
  {
   "cell_type": "code",
   "execution_count": 20,
   "id": "324370c8-144e-44d7-899c-a0e72cf63158",
   "metadata": {},
   "outputs": [
    {
     "name": "stdout",
     "output_type": "stream",
     "text": [
      "11 4\n"
     ]
    }
   ],
   "source": [
    "import pandas as pd\n",
    "\n",
    "s = pd.Series([1, 1, 3, 7, 88, 12, 88, 23, 3, 1, 9, 0])\n",
    "\n",
    "min_index = s.idxmin()\n",
    "\n",
    "max_index = s.idxmax()\n",
    "\n",
    "print(min_index, max_index)\n"
   ]
  },
  {
   "cell_type": "code",
   "execution_count": 21,
   "id": "695f29f5-d0a5-455d-818d-12f9b6aa32e4",
   "metadata": {},
   "outputs": [
    {
     "name": "stdout",
     "output_type": "stream",
     "text": [
      "0       Cry\n",
      "1     Apple\n",
      "2    Orange\n",
      "3       Sky\n",
      "4    Banana\n",
      "dtype: object\n",
      "0     Apple\n",
      "1    Orange\n",
      "2    Banana\n",
      "dtype: object\n",
      "0     Apple\n",
      "1    Orange\n",
      "dtype: object\n"
     ]
    }
   ],
   "source": [
    "L=['Cry', 'Apple', 'Orange', 'Sky', 'Banana']\n",
    "s=pd.Series(L)\n",
    "print(s)\n",
    "newlist=[]\n",
    "newlist2=[]\n",
    "for i in s:\n",
    "    if 'a' in i.lower() or 'e' in i.lower() or 'i' in i.lower() or 'o' in i.lower() or 'u' in i.lower():\n",
    "        newlist.append(i)\n",
    "    if i.lower()[0]=='a' or i.lower()[0]=='e' or i.lower()[0]=='i' or i.lower()[0]=='o' or i.lower()[0]=='u':\n",
    "        newlist2.append(i)\n",
    "news1=pd.Series(newlist)\n",
    "news2=pd.Series(newlist2)\n",
    "print(news1)\n",
    "print(news2)"
   ]
  },
  {
   "cell_type": "code",
   "execution_count": 22,
   "id": "586c2b96-fdba-4f30-ad68-c1f9c771b9fa",
   "metadata": {},
   "outputs": [
    {
     "name": "stdout",
     "output_type": "stream",
     "text": [
      "0     7\n",
      "1    11\n",
      "2    13\n",
      "3    17\n",
      "dtype: int64\n",
      "0    100.0\n",
      "1    100.0\n",
      "2    100.0\n",
      "3    100.0\n",
      "4    100.0\n",
      "dtype: float64\n",
      "count     20.000000\n",
      "mean      53.050000\n",
      "std       30.672249\n",
      "min        7.000000\n",
      "25%       30.250000\n",
      "50%       55.000000\n",
      "75%       81.750000\n",
      "max      100.000000\n",
      "dtype: float64\n",
      "Julie       98.6\n",
      "Charlie     98.9\n",
      "Sam        100.2\n",
      "Andrea      97.9\n",
      "dtype: float64\n",
      "Julie       98.6\n",
      "Charlie     98.9\n",
      "Sam        100.2\n",
      "Andrea      97.9\n",
      "dtype: float64\n"
     ]
    }
   ],
   "source": [
    "import numpy as np\n",
    "a=pd.Series([7,11,13,17])\n",
    "print(a)\n",
    "b=pd.Series(100.0,range(5))\n",
    "print(b)\n",
    "c = pd.Series(np.random.randint(0, 101, size=20))\n",
    "print(c.describe())\n",
    "d=pd.Series([98.6,98.9,100.2,97.9],index=[\"Julie\",\"Charlie\",\"Sam\",\"Andrea\"])\n",
    "print(d)\n",
    "e=pd.Series({\n",
    "    \"Julie\":98.6,\n",
    "    \"Charlie\":98.9,\n",
    "    \"Sam\":100.2,\n",
    "    \"Andrea\":97.9\n",
    "})\n",
    "print(e)"
   ]
  },
  {
   "cell_type": "code",
   "execution_count": null,
   "id": "86ade98c-7b85-4b12-bd67-59c388b26d1a",
   "metadata": {},
   "outputs": [],
   "source": []
  }
 ],
 "metadata": {
  "kernelspec": {
   "display_name": "Python [conda env:base] *",
   "language": "python",
   "name": "conda-base-py"
  },
  "language_info": {
   "codemirror_mode": {
    "name": "ipython",
    "version": 3
   },
   "file_extension": ".py",
   "mimetype": "text/x-python",
   "name": "python",
   "nbconvert_exporter": "python",
   "pygments_lexer": "ipython3",
   "version": "3.12.7"
  }
 },
 "nbformat": 4,
 "nbformat_minor": 5
}
