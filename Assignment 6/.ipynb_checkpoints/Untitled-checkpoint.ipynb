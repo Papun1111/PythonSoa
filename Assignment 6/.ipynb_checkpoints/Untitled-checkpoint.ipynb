{
 "cells": [
  {
   "cell_type": "code",
   "execution_count": 1,
   "id": "e99946cb-4eae-4131-8f32-f0eebb00efbe",
   "metadata": {},
   "outputs": [],
   "source": [
    "import numpy as np\n",
    "\n",
    "arr = np.ones((2, 3))  # Creates a 2x3 array filled with ones\n",
    "arr2 = np.zeros((3, 3))  # Creates a 3x3 array filled with zeros\n",
    "arr3 = np.full((2, 5), 7)  # Correctly creates a 2x5 array filled with the number 7\n"
   ]
  },
  {
   "cell_type": "code",
   "execution_count": 2,
   "id": "7fb71165-5fc6-463c-81e8-5fa4df6c7983",
   "metadata": {},
   "outputs": [
    {
     "name": "stdout",
     "output_type": "stream",
     "text": [
      "[[ 0  1]\n",
      " [ 8 27]]\n",
      "[[ 7  8]\n",
      " [ 9 10]]\n",
      "[[0 2]\n",
      " [4 6]]\n"
     ]
    }
   ],
   "source": [
    "import numpy as np\n",
    "arr = np.arange(4) \n",
    "arr_reshaped = arr.reshape(2, 2)\n",
    "print(arr_reshaped**3)\n",
    "print(arr_reshaped+7)\n",
    "print(arr_reshaped*2)"
   ]
  },
  {
   "cell_type": "code",
   "execution_count": 3,
   "id": "6f9462c6-5fde-455a-93c6-79adfca5dbe8",
   "metadata": {},
   "outputs": [
    {
     "data": {
      "text/plain": [
       "array([[18, 32, 42],\n",
       "       [48, 50, 48],\n",
       "       [42, 32, 18]])"
      ]
     },
     "execution_count": 3,
     "metadata": {},
     "output_type": "execute_result"
    }
   ],
   "source": [
    "arr1=np.arange(2,19,2).reshape(3,3)\n",
    "arr2=np.arange(9,0,-1).reshape(3,3)\n",
    "arr1*arr2"
   ]
  },
  {
   "cell_type": "code",
   "execution_count": 4,
   "id": "f8c1faf1-2b24-4644-aafa-d53a6844fbc7",
   "metadata": {},
   "outputs": [
    {
     "name": "stdout",
     "output_type": "stream",
     "text": [
      "[[4 3]\n",
      " [2 1]]\n"
     ]
    }
   ],
   "source": [
    "import numpy as np\n",
    "\n",
    "twoarr = np.array([[1, 2], [3, 4]])\n",
    "twoarr[[0, 1]] = twoarr[[1, 0]]\n",
    "twoarr[:, [0, 1]] = twoarr[:, [1, 0]]\n",
    "print(twoarr)\n"
   ]
  },
  {
   "cell_type": "code",
   "execution_count": 5,
   "id": "ce5016b0-46b8-4683-ad1d-f254bf48adb3",
   "metadata": {},
   "outputs": [
    {
     "name": "stdout",
     "output_type": "stream",
     "text": [
      "[[ 2  3  5  7 11]\n",
      " [13 17 19 23 29]]\n"
     ]
    }
   ],
   "source": [
    "list1=[2,3,5,7,11]\n",
    "list2=[13,17,19,23,29]\n",
    "npa=np.array([list1,list2])\n",
    "print(npa)"
   ]
  },
  {
   "cell_type": "code",
   "execution_count": 6,
   "id": "9cc51bf3-b0f8-42af-af91-368a723b0872",
   "metadata": {},
   "outputs": [
    {
     "name": "stdout",
     "output_type": "stream",
     "text": [
      "[ 1  2  4  8 16 32]\n",
      "[ 1  2  4  8 16 32]\n",
      "[[ 1  2  4]\n",
      " [ 8 16 32]]\n"
     ]
    }
   ],
   "source": [
    "npa=np.array([2**x for x in range(0,6,1)]).reshape(2,3)\n",
    "print(npa.flatten())\n",
    "print(npa.ravel())\n",
    "print(npa)"
   ]
  },
  {
   "cell_type": "code",
   "execution_count": 7,
   "id": "ec75f84e-a074-4c57-aa22-3dd3e207a293",
   "metadata": {},
   "outputs": [
    {
     "name": "stdout",
     "output_type": "stream",
     "text": [
      "5\n"
     ]
    }
   ],
   "source": [
    "from statistics import mode,mean\n",
    "numbers = [6, 9, 5, 1, 7, 5, 1, 0, 1, 5,5,0,8,9,0,7,0,7,6,5,1,1,9,5,3,8,7,9,6,3,4,5,9,7,2,7,0,2,2,6]\n",
    "npa=np.array(numbers)\n",
    "print(mode(npa))"
   ]
  },
  {
   "cell_type": "code",
   "execution_count": 8,
   "id": "c2cedf1a-6693-4a5b-a28e-77cafd8642e4",
   "metadata": {},
   "outputs": [
    {
     "name": "stdout",
     "output_type": "stream",
     "text": [
      "[[1 2 3]\n",
      " [4 5 6]]\n"
     ]
    }
   ],
   "source": [
    "npa = np.linspace(1.1, 6.6, num=6).reshape(2, 3)\n",
    "npa_int = npa.astype(int)\n",
    "print(npa_int)"
   ]
  },
  {
   "cell_type": "code",
   "execution_count": 9,
   "id": "a2713743-e55f-4d41-be7b-173730b99f15",
   "metadata": {},
   "outputs": [
    {
     "name": "stdout",
     "output_type": "stream",
     "text": [
      "  1   2   3   4   5 \n",
      "  6   7   8   9 100 \n"
     ]
    }
   ],
   "source": [
    "import numpy as np\n",
    "def format_2darray(arr):\n",
    "    max_val = 0\n",
    "    for i in arr:\n",
    "        for j in i:\n",
    "            if j > max_val:\n",
    "                max_val = j\n",
    "    count = 0\n",
    "    while max_val > 0:\n",
    "        max_val //= 10\n",
    "        count += 1\n",
    "    for i in arr:\n",
    "        for j in i:\n",
    "            print(f\"{j:>{count}}\", end=' ') \n",
    "        print()\n",
    "num = np.array([[1, 2, 3, 4, 5], [6, 7, 8, 9, 100]])\n",
    "format_2darray(num)\n"
   ]
  },
  {
   "cell_type": "code",
   "execution_count": 10,
   "id": "738042b8-15c3-4805-af2e-23fe301c73f2",
   "metadata": {},
   "outputs": [
    {
     "name": "stdout",
     "output_type": "stream",
     "text": [
      "[[ 1  2  3  4  5]\n",
      " [ 6  7  8  9 10]\n",
      " [11 12 13 14 15]]\n",
      "[ 6  7  8  9 10]\n",
      "[ 5 10 15]\n",
      "[[ 1  2  3  4  5]\n",
      " [ 6  7  8  9 10]]\n",
      "10\n",
      "[[ 6  8 10]\n",
      " [11 13 15]]\n"
     ]
    }
   ],
   "source": [
    "num=np.arange(1,16,1).reshape(3,5)\n",
    "print(num)\n",
    "print(num[1])\n",
    "print(num[:,4])\n",
    "print(num[0:2])\n",
    "print(num[1,4])\n",
    "print(num[1:3,[0,2,4]])\n"
   ]
  },
  {
   "cell_type": "code",
   "execution_count": 12,
   "id": "fab18f14-1bb1-4e58-9b0b-9a706a426faf",
   "metadata": {},
   "outputs": [
    {
     "name": "stdout",
     "output_type": "stream",
     "text": [
      "[[0 1]\n",
      " [2 3]\n",
      " [4 5]\n",
      " [6 7]]\n",
      "[[0 1 4 5]\n",
      " [2 3 6 7]]\n",
      "[[0 1 4 5]\n",
      " [2 3 6 7]\n",
      " [0 1 4 5]\n",
      " [2 3 6 7]]\n",
      "[[0 1 0 1]\n",
      " [2 3 2 3]\n",
      " [4 5 4 5]\n",
      " [6 7 6 7]]\n"
     ]
    }
   ],
   "source": [
    "array1=np.array([[0,1],[2,3]])\n",
    "array2=np.array([[4,5],[6,7]])\n",
    "array3=np.vstack((array1,array2))\n",
    "array4=np.hstack((array1,array2))\n",
    "print(array3)\n",
    "print(array4)\n",
    "array5=np.vstack((array4,array4))\n",
    "print(array5)\n",
    "array6=np.hstack((array3,array3))\n",
    "print(array6)"
   ]
  },
  {
   "cell_type": "code",
   "execution_count": null,
   "id": "4dd2f36b-6b40-40e4-8836-0fae8c8aae9c",
   "metadata": {},
   "outputs": [],
   "source": []
  }
 ],
 "metadata": {
  "kernelspec": {
   "display_name": "Python 3 (ipykernel)",
   "language": "python",
   "name": "python3"
  },
  "language_info": {
   "codemirror_mode": {
    "name": "ipython",
    "version": 3
   },
   "file_extension": ".py",
   "mimetype": "text/x-python",
   "name": "python",
   "nbconvert_exporter": "python",
   "pygments_lexer": "ipython3",
   "version": "3.12.7"
  }
 },
 "nbformat": 4,
 "nbformat_minor": 5
}
