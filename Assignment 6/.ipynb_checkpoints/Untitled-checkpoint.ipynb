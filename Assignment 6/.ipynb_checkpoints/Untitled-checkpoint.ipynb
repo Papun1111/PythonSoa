{
 "cells": [
  {
   "cell_type": "code",
   "execution_count": 1,
   "id": "e99946cb-4eae-4131-8f32-f0eebb00efbe",
   "metadata": {},
   "outputs": [],
   "source": [
    "import numpy as np\n",
    "\n",
    "arr = np.ones((2, 3))  # Creates a 2x3 array filled with ones\n",
    "arr2 = np.zeros((3, 3))  # Creates a 3x3 array filled with zeros\n",
    "arr3 = np.full((2, 5), 7)  # Correctly creates a 2x5 array filled with the number 7\n"
   ]
  },
  {
   "cell_type": "code",
   "execution_count": 2,
   "id": "7fb71165-5fc6-463c-81e8-5fa4df6c7983",
   "metadata": {},
   "outputs": [
    {
     "name": "stdout",
     "output_type": "stream",
     "text": [
      "[[ 0  1]\n",
      " [ 8 27]]\n",
      "[[ 7  8]\n",
      " [ 9 10]]\n",
      "[[0 2]\n",
      " [4 6]]\n"
     ]
    }
   ],
   "source": [
    "import numpy as np\n",
    "arr = np.arange(4) \n",
    "arr_reshaped = arr.reshape(2, 2)\n",
    "print(arr_reshaped**3)\n",
    "print(arr_reshaped+7)\n",
    "print(arr_reshaped*2)"
   ]
  },
  {
   "cell_type": "code",
   "execution_count": 3,
   "id": "6f9462c6-5fde-455a-93c6-79adfca5dbe8",
   "metadata": {},
   "outputs": [
    {
     "data": {
      "text/plain": [
       "array([[18, 32, 42],\n",
       "       [48, 50, 48],\n",
       "       [42, 32, 18]])"
      ]
     },
     "execution_count": 3,
     "metadata": {},
     "output_type": "execute_result"
    }
   ],
   "source": [
    "arr1=np.arange(2,19,2).reshape(3,3)\n",
    "arr2=np.arange(9,0,-1).reshape(3,3)\n",
    "arr1*arr2"
   ]
  },
  {
   "cell_type": "code",
   "execution_count": 4,
   "id": "f8c1faf1-2b24-4644-aafa-d53a6844fbc7",
   "metadata": {},
   "outputs": [
    {
     "name": "stdout",
     "output_type": "stream",
     "text": [
      "[[4 3]\n",
      " [2 1]]\n"
     ]
    }
   ],
   "source": [
    "import numpy as np\n",
    "\n",
    "twoarr = np.array([[1, 2], [3, 4]])\n",
    "twoarr[[0, 1]] = twoarr[[1, 0]]\n",
    "twoarr[:, [0, 1]] = twoarr[:, [1, 0]]\n",
    "print(twoarr)\n"
   ]
  },
  {
   "cell_type": "code",
   "execution_count": 5,
   "id": "ce5016b0-46b8-4683-ad1d-f254bf48adb3",
   "metadata": {},
   "outputs": [
    {
     "name": "stdout",
     "output_type": "stream",
     "text": [
      "[[ 2  3  5  7 11]\n",
      " [13 17 19 23 29]]\n"
     ]
    }
   ],
   "source": [
    "list1=[2,3,5,7,11]\n",
    "list2=[13,17,19,23,29]\n",
    "npa=np.array([list1,list2])\n",
    "print(npa)"
   ]
  },
  {
   "cell_type": "code",
   "execution_count": 6,
   "id": "9cc51bf3-b0f8-42af-af91-368a723b0872",
   "metadata": {},
   "outputs": [
    {
     "name": "stdout",
     "output_type": "stream",
     "text": [
      "[ 1  2  4  8 16 32]\n",
      "[ 1  2  4  8 16 32]\n",
      "[[ 1  2  4]\n",
      " [ 8 16 32]]\n"
     ]
    }
   ],
   "source": [
    "npa=np.array([2**x for x in range(0,6,1)]).reshape(2,3)\n",
    "print(npa.flatten())\n",
    "print(npa.ravel())\n",
    "print(npa)"
   ]
  },
  {
   "cell_type": "code",
   "execution_count": 7,
   "id": "ec75f84e-a074-4c57-aa22-3dd3e207a293",
   "metadata": {},
   "outputs": [
    {
     "name": "stdout",
     "output_type": "stream",
     "text": [
      "5\n"
     ]
    }
   ],
   "source": [
    "from statistics import mode,mean\n",
    "numbers = [6, 9, 5, 1, 7, 5, 1, 0, 1, 5,5,0,8,9,0,7,0,7,6,5,1,1,9,5,3,8,7,9,6,3,4,5,9,7,2,7,0,2,2,6]\n",
    "npa=np.array(numbers)\n",
    "print(mode(npa))"
   ]
  },
  {
   "cell_type": "code",
   "execution_count": 8,
   "id": "c2cedf1a-6693-4a5b-a28e-77cafd8642e4",
   "metadata": {},
   "outputs": [
    {
     "name": "stdout",
     "output_type": "stream",
     "text": [
      "[[1 2 3]\n",
      " [4 5 6]]\n"
     ]
    }
   ],
   "source": [
    "npa = np.linspace(1.1, 6.6, num=6).reshape(2, 3)\n",
    "npa_int = npa.astype(int)\n",
    "print(npa_int)"
   ]
  },
  {
   "cell_type": "code",
   "execution_count": 9,
   "id": "a2713743-e55f-4d41-be7b-173730b99f15",
   "metadata": {},
   "outputs": [
    {
     "name": "stdout",
     "output_type": "stream",
     "text": [
      "  1   2   3   4   5 \n",
      "  6   7   8   9 100 \n"
     ]
    }
   ],
   "source": [
    "import numpy as np\n",
    "def format_2darray(arr):\n",
    "    max_val = 0\n",
    "    for i in arr:\n",
    "        for j in i:\n",
    "            if j > max_val:\n",
    "                max_val = j\n",
    "    count = 0\n",
    "    while max_val > 0:\n",
    "        max_val //= 10\n",
    "        count += 1\n",
    "    for i in arr:\n",
    "        for j in i:\n",
    "            print(f\"{j:>{count}}\", end=' ') \n",
    "        print()\n",
    "num = np.array([[1, 2, 3, 4, 5], [6, 7, 8, 9, 100]])\n",
    "format_2darray(num)\n"
   ]
  },
  {
   "cell_type": "code",
   "execution_count": 10,
   "id": "738042b8-15c3-4805-af2e-23fe301c73f2",
   "metadata": {},
   "outputs": [
    {
     "name": "stdout",
     "output_type": "stream",
     "text": [
      "[[ 1  2  3  4  5]\n",
      " [ 6  7  8  9 10]\n",
      " [11 12 13 14 15]]\n",
      "[ 6  7  8  9 10]\n",
      "[ 5 10 15]\n",
      "[[ 1  2  3  4  5]\n",
      " [ 6  7  8  9 10]]\n",
      "10\n",
      "[[ 6  8 10]\n",
      " [11 13 15]]\n"
     ]
    }
   ],
   "source": [
    "num=np.arange(1,16,1).reshape(3,5)\n",
    "print(num)\n",
    "print(num[1])\n",
    "print(num[:,4])\n",
    "print(num[0:2])\n",
    "print(num[1,4])\n",
    "print(num[1:3,[0,2,4]])\n"
   ]
  },
  {
   "cell_type": "code",
   "execution_count": 11,
   "id": "fab18f14-1bb1-4e58-9b0b-9a706a426faf",
   "metadata": {},
   "outputs": [
    {
     "name": "stdout",
     "output_type": "stream",
     "text": [
      "[[0 1]\n",
      " [2 3]\n",
      " [4 5]\n",
      " [6 7]]\n",
      "[[0 1 4 5]\n",
      " [2 3 6 7]]\n",
      "[[0 1 4 5]\n",
      " [2 3 6 7]\n",
      " [0 1 4 5]\n",
      " [2 3 6 7]]\n",
      "[[0 1 0 1]\n",
      " [2 3 2 3]\n",
      " [4 5 4 5]\n",
      " [6 7 6 7]]\n"
     ]
    }
   ],
   "source": [
    "array1=np.array([[0,1],[2,3]])\n",
    "array2=np.array([[4,5],[6,7]])\n",
    "array3=np.vstack((array1,array2))\n",
    "array4=np.hstack((array1,array2))\n",
    "print(array3)\n",
    "print(array4)\n",
    "array5=np.vstack((array4,array4))\n",
    "print(array5)\n",
    "array6=np.hstack((array3,array3))\n",
    "print(array6)"
   ]
  },
  {
   "cell_type": "code",
   "execution_count": 12,
   "id": "4dd2f36b-6b40-40e4-8836-0fae8c8aae9c",
   "metadata": {},
   "outputs": [
    {
     "name": "stdout",
     "output_type": "stream",
     "text": [
      "[[0 1]\n",
      " [2 3]]\n",
      "[[4 5]\n",
      " [6 7]]\n",
      "[[0 1]\n",
      " [2 3]\n",
      " [4 5]\n",
      " [6 7]]\n",
      "[[0 1 4 5]\n",
      " [2 3 6 7]]\n",
      "[[0 1 4 5]\n",
      " [2 3 6 7]\n",
      " [0 1 4 5]\n",
      " [2 3 6 7]]\n",
      "[[0 1 4 5]\n",
      " [2 3 6 7]]\n"
     ]
    }
   ],
   "source": [
    "array1=np.array([[0,1],[2,3]])\n",
    "array2=np.array([[4,5],[6,7]])\n",
    "array3=np.concatenate((array1,array2),axis=0)\n",
    "array4=np.concatenate((array1,array2),axis=1)\n",
    "array5=np.concatenate((array4,array4),axis=0)\n",
    "array6=np.concatenate((array1,array2),axis=1)\n",
    "print(array1)\n",
    "print(array2)\n",
    "print(array3)\n",
    "print(array4)\n",
    "print(array5)\n",
    "print(array6)"
   ]
  },
  {
   "cell_type": "code",
   "execution_count": 13,
   "id": "30ff15a8-7578-4837-bce4-321020c61ed8",
   "metadata": {},
   "outputs": [
    {
     "data": {
      "text/plain": [
       "array([['-', '*', '-', '*', '-', '*', '-', '*'],\n",
       "       ['*', '-', '*', '-', '*', '-', '*', '-'],\n",
       "       ['-', '*', '-', '*', '-', '*', '-', '*'],\n",
       "       ['*', '-', '*', '-', '*', '-', '*', '-'],\n",
       "       ['-', '*', '-', '*', '-', '*', '-', '*'],\n",
       "       ['*', '-', '*', '-', '*', '-', '*', '-'],\n",
       "       ['-', '*', '-', '*', '-', '*', '-', '*'],\n",
       "       ['*', '-', '*', '-', '*', '-', '*', '-']], dtype='<U1')"
      ]
     },
     "execution_count": 13,
     "metadata": {},
     "output_type": "execute_result"
    }
   ],
   "source": [
    "import numpy as np\n",
    "pattern = np.array([['-', '*'], \n",
    "                         ['*', '-']])\n",
    "\n",
    "\n",
    "checkerboard = np.tile(pattern, (4, 4)) \n",
    "\n",
    "checkerboard\n"
   ]
  },
  {
   "cell_type": "code",
   "execution_count": 14,
   "id": "fe0d1bbb-72f3-44eb-a047-acb8a05f5026",
   "metadata": {},
   "outputs": [
    {
     "name": "stdout",
     "output_type": "stream",
     "text": [
      "[[80 20  3 38 30]\n",
      " [79 72 78 84 40]\n",
      " [29  8 31 20 78]\n",
      " [43 13 66  7 12]\n",
      " [34 72 88 82 14]]\n"
     ]
    },
    {
     "data": {
      "text/plain": [
       "array([0, 0, 0, 1, 0, 0, 0, 1, 1, 0, 0, 0, 1, 1, 1, 0, 0, 0, 0, 0, 2, 0,\n",
       "       0, 0, 0, 0, 0, 0, 0, 1, 1, 1, 0, 0, 1, 0, 0, 0, 1, 0, 1, 0, 0, 1,\n",
       "       0, 0, 0, 0, 0, 0, 0, 0, 0, 0, 0, 0, 0, 0, 0, 0, 0, 0, 0, 0, 0, 0,\n",
       "       1, 0, 0, 0, 0, 0, 2, 0, 0, 0, 0, 0, 2, 1, 1, 0, 1, 0, 1, 0, 0, 0,\n",
       "       1], dtype=int64)"
      ]
     },
     "execution_count": 14,
     "metadata": {},
     "output_type": "execute_result"
    }
   ],
   "source": [
    "random_array = np.random.randint(0, 100, size=(5, 5))\n",
    "print(random_array)\n",
    "np.bincount(random_array.flatten())"
   ]
  },
  {
   "cell_type": "code",
   "execution_count": 15,
   "id": "3d32256e-f714-4845-ac57-5f1891f4a9e7",
   "metadata": {},
   "outputs": [
    {
     "name": "stdout",
     "output_type": "stream",
     "text": [
      "Array 1 (1D): [1 2 2 3 4 4 4 5]\n",
      "Median: 3.5\n",
      "Mode: 4\n",
      "\n",
      "Array 2 (2D):\n",
      "[[1 2 2]\n",
      " [3 4 4]\n",
      " [4 5 6]]\n",
      "Median: 4.0\n",
      "Mode: 4\n",
      "\n",
      "Array 3 (3D):\n",
      "[[[5 8 7]\n",
      "  [5 2 6]\n",
      "  [1 9 9]]\n",
      "\n",
      " [[6 4 7]\n",
      "  [6 4 1]\n",
      "  [8 8 1]]\n",
      "\n",
      " [[4 5 2]\n",
      "  [4 5 5]\n",
      "  [3 9 7]]]\n",
      "Median: 5.0\n",
      "Mode: 5\n"
     ]
    }
   ],
   "source": [
    "import numpy as np\n",
    "\n",
    "def median(arr):\n",
    "    return np.median(arr)\n",
    "\n",
    "def mode(arr):\n",
    "    values, counts = np.unique(arr, return_counts=True)\n",
    "    max_count_index = np.argmax(counts)\n",
    "    return values[max_count_index]\n",
    "\n",
    "arr1 = np.array([1, 2, 2, 3, 4, 4, 4, 5])\n",
    "print(f\"Array 1 (1D): {arr1}\")\n",
    "print(f\"Median: {median(arr1)}\")\n",
    "print(f\"Mode: {mode(arr1)}\")\n",
    "\n",
    "arr2 = np.array([[1, 2, 2], [3, 4, 4], [4, 5, 6]])\n",
    "print(f\"\\nArray 2 (2D):\\n{arr2}\")\n",
    "print(f\"Median: {median(arr2)}\")\n",
    "print(f\"Mode: {mode(arr2)}\")\n",
    "\n",
    "arr3 = np.random.randint(1, 10, (3, 3, 3))\n",
    "print(f\"\\nArray 3 (3D):\\n{arr3}\")\n",
    "print(f\"Median: {median(arr3)}\")\n",
    "print(f\"Mode: {mode(arr3)}\")\n"
   ]
  },
  {
   "cell_type": "code",
   "execution_count": 16,
   "id": "309b3799-bb6b-4fee-9aa1-5ecdfc5b7d74",
   "metadata": {},
   "outputs": [
    {
     "name": "stdout",
     "output_type": "stream",
     "text": [
      "Original array (9x9x2):\n",
      " [[[0.59591321 0.75662414]\n",
      "  [0.79678509 0.70594608]\n",
      "  [0.58701706 0.78161226]\n",
      "  [0.04994854 0.94599989]\n",
      "  [0.04118888 0.14276575]\n",
      "  [0.58304801 0.99216281]\n",
      "  [0.68792518 0.25601724]\n",
      "  [0.44237751 0.29170702]\n",
      "  [0.89461232 0.90119615]]\n",
      "\n",
      " [[0.07033465 0.98909569]\n",
      "  [0.25044061 0.47396698]\n",
      "  [0.09785863 0.38693367]\n",
      "  [0.38104771 0.13780594]\n",
      "  [0.62002711 0.15040827]\n",
      "  [0.9895502  0.79788214]\n",
      "  [0.51734199 0.00893017]\n",
      "  [0.41563525 0.84173732]\n",
      "  [0.94155227 0.29251448]]\n",
      "\n",
      " [[0.25456548 0.8283061 ]\n",
      "  [0.18368243 0.96041883]\n",
      "  [0.50928351 0.9944673 ]\n",
      "  [0.76036887 0.15653029]\n",
      "  [0.89755329 0.1825123 ]\n",
      "  [0.20732185 0.97068948]\n",
      "  [0.29479806 0.63355568]\n",
      "  [0.31621179 0.66034519]\n",
      "  [0.28621911 0.75035487]]\n",
      "\n",
      " [[0.63576983 0.46712231]\n",
      "  [0.22390071 0.69192032]\n",
      "  [0.56151268 0.40335132]\n",
      "  [0.89022552 0.36241976]\n",
      "  [0.18175519 0.82213245]\n",
      "  [0.6766226  0.89170284]\n",
      "  [0.59466219 0.54939995]\n",
      "  [0.31579556 0.22688348]\n",
      "  [0.07050681 0.5202441 ]]\n",
      "\n",
      " [[0.02320069 0.1487338 ]\n",
      "  [0.50201048 0.91238598]\n",
      "  [0.8726964  0.02951758]\n",
      "  [0.10459799 0.55598027]\n",
      "  [0.80338009 0.47876558]\n",
      "  [0.85413032 0.57235507]\n",
      "  [0.03641077 0.39915861]\n",
      "  [0.41279195 0.79756424]\n",
      "  [0.32147421 0.81468161]]\n",
      "\n",
      " [[0.90826497 0.08752089]\n",
      "  [0.48672024 0.05896233]\n",
      "  [0.04110419 0.86654263]\n",
      "  [0.89988704 0.97231746]\n",
      "  [0.91444623 0.33472814]\n",
      "  [0.79677375 0.89726866]\n",
      "  [0.87914349 0.93380289]\n",
      "  [0.21921585 0.53486303]\n",
      "  [0.55579111 0.01605067]]\n",
      "\n",
      " [[0.54585494 0.55101909]\n",
      "  [0.49822773 0.24627383]\n",
      "  [0.29687504 0.40044653]\n",
      "  [0.3489251  0.83853021]\n",
      "  [0.67592858 0.28857942]\n",
      "  [0.82278    0.21597172]\n",
      "  [0.19982733 0.89077232]\n",
      "  [0.37021346 0.34719408]\n",
      "  [0.73379764 0.26578601]]\n",
      "\n",
      " [[0.99825716 0.7267452 ]\n",
      "  [0.00464323 0.56415136]\n",
      "  [0.13640196 0.61072575]\n",
      "  [0.34644092 0.49576712]\n",
      "  [0.34826855 0.31536675]\n",
      "  [0.92042103 0.13887962]\n",
      "  [0.93181305 0.44677985]\n",
      "  [0.31138129 0.13700115]\n",
      "  [0.77451933 0.74701035]]\n",
      "\n",
      " [[0.18349149 0.73546545]\n",
      "  [0.7274914  0.54587417]\n",
      "  [0.07373133 0.87311077]\n",
      "  [0.17742259 0.64416646]\n",
      "  [0.64218304 0.50842981]\n",
      "  [0.13092876 0.91345938]\n",
      "  [0.28139641 0.64525938]\n",
      "  [0.88381813 0.10392532]\n",
      "  [0.4452272  0.16424669]]]\n",
      "\n",
      "Extracted subarray (5x5x2):\n",
      " [[[0.50928351 0.9944673 ]\n",
      "  [0.76036887 0.15653029]\n",
      "  [0.89755329 0.1825123 ]\n",
      "  [0.20732185 0.97068948]\n",
      "  [0.29479806 0.63355568]]\n",
      "\n",
      " [[0.56151268 0.40335132]\n",
      "  [0.89022552 0.36241976]\n",
      "  [0.18175519 0.82213245]\n",
      "  [0.6766226  0.89170284]\n",
      "  [0.59466219 0.54939995]]\n",
      "\n",
      " [[0.8726964  0.02951758]\n",
      "  [0.10459799 0.55598027]\n",
      "  [0.80338009 0.47876558]\n",
      "  [0.85413032 0.57235507]\n",
      "  [0.03641077 0.39915861]]\n",
      "\n",
      " [[0.04110419 0.86654263]\n",
      "  [0.89988704 0.97231746]\n",
      "  [0.91444623 0.33472814]\n",
      "  [0.79677375 0.89726866]\n",
      "  [0.87914349 0.93380289]]\n",
      "\n",
      " [[0.29687504 0.40044653]\n",
      "  [0.3489251  0.83853021]\n",
      "  [0.67592858 0.28857942]\n",
      "  [0.82278    0.21597172]\n",
      "  [0.19982733 0.89077232]]]\n"
     ]
    }
   ],
   "source": [
    "import numpy as np\n",
    "\n",
    "arr = np.random.random((9, 9, 2))\n",
    "print(\"Original array (9x9x2):\\n\", arr)\n",
    "\n",
    "arr2 = arr[2:7, 2:7, :]\n",
    "print(\"\\nExtracted subarray (5x5x2):\\n\", arr2)"
   ]
  },
  {
   "cell_type": "code",
   "execution_count": 17,
   "id": "bf3a8420-2c80-4305-9466-21ea4cd0e585",
   "metadata": {},
   "outputs": [
    {
     "name": "stdout",
     "output_type": "stream",
     "text": [
      "[[0.38748318 0.74653176 0.56494858 0.41209621]\n",
      " [0.49132709 0.97619401 0.18926748 0.18686767]\n",
      " [0.96903957 0.07779702 0.10014297 0.5028336 ]\n",
      " [0.89980193 0.98176179 0.53692897 0.61011431]]\n",
      "[[0.38748318 0.07779702 0.10014297 0.18686767]\n",
      " [0.49132709 0.74653176 0.18926748 0.41209621]\n",
      " [0.89980193 0.97619401 0.53692897 0.5028336 ]\n",
      " [0.96903957 0.98176179 0.56494858 0.61011431]]\n"
     ]
    }
   ],
   "source": [
    "arr=np.random.random((4,4))\n",
    "print(arr)\n",
    "arr.sort(axis=0)\n",
    "print(arr)"
   ]
  },
  {
   "cell_type": "code",
   "execution_count": 18,
   "id": "6745bbef-b772-4095-af86-609471eef40f",
   "metadata": {},
   "outputs": [
    {
     "name": "stdout",
     "output_type": "stream",
     "text": [
      "0    1\n",
      "1    2\n",
      "2    3\n",
      "3    4\n",
      "Name: A, dtype: int64\n"
     ]
    }
   ],
   "source": [
    "import pandas as pd\n",
    "\n",
    "data = {'A': [1, 2, 3, 4], 'B': [5, 6, 7, 8]}\n",
    "df = pd.DataFrame(data)\n",
    "\n",
    "first_column_series = df.iloc[:, 0]\n",
    "\n",
    "print(first_column_series)\n"
   ]
  },
  {
   "cell_type": "code",
   "execution_count": 19,
   "id": "b81e2efc-44c4-4c60-91ca-868b27f50964",
   "metadata": {},
   "outputs": [
    {
     "name": "stdout",
     "output_type": "stream",
     "text": [
      "1 2 2 "
     ]
    }
   ],
   "source": [
    "import pandas as pd\n",
    "\n",
    "s1 = pd.Series([1, 2, 3, 4, 2])\n",
    "s2 = pd.Series([3, 4, 5, 6])\n",
    "\n",
    "for i in s1:\n",
    "    if i not in s2.values:\n",
    "        print(i, end=\" \")\n"
   ]
  },
  {
   "cell_type": "code",
   "execution_count": 20,
   "id": "324370c8-144e-44d7-899c-a0e72cf63158",
   "metadata": {},
   "outputs": [
    {
     "name": "stdout",
     "output_type": "stream",
     "text": [
      "11 4\n"
     ]
    }
   ],
   "source": [
    "import pandas as pd\n",
    "\n",
    "s = pd.Series([1, 1, 3, 7, 88, 12, 88, 23, 3, 1, 9, 0])\n",
    "\n",
    "min_index = s.idxmin()\n",
    "\n",
    "max_index = s.idxmax()\n",
    "\n",
    "print(min_index, max_index)\n"
   ]
  },
  {
   "cell_type": "code",
   "execution_count": 21,
   "id": "695f29f5-d0a5-455d-818d-12f9b6aa32e4",
   "metadata": {},
   "outputs": [
    {
     "name": "stdout",
     "output_type": "stream",
     "text": [
      "0       Cry\n",
      "1     Apple\n",
      "2    Orange\n",
      "3       Sky\n",
      "4    Banana\n",
      "dtype: object\n",
      "0     Apple\n",
      "1    Orange\n",
      "2    Banana\n",
      "dtype: object\n",
      "0     Apple\n",
      "1    Orange\n",
      "dtype: object\n"
     ]
    }
   ],
   "source": [
    "L=['Cry', 'Apple', 'Orange', 'Sky', 'Banana']\n",
    "s=pd.Series(L)\n",
    "print(s)\n",
    "newlist=[]\n",
    "newlist2=[]\n",
    "for i in s:\n",
    "    if 'a' in i.lower() or 'e' in i.lower() or 'i' in i.lower() or 'o' in i.lower() or 'u' in i.lower():\n",
    "        newlist.append(i)\n",
    "    if i.lower()[0]=='a' or i.lower()[0]=='e' or i.lower()[0]=='i' or i.lower()[0]=='o' or i.lower()[0]=='u':\n",
    "        newlist2.append(i)\n",
    "news1=pd.Series(newlist)\n",
    "news2=pd.Series(newlist2)\n",
    "print(news1)\n",
    "print(news2)"
   ]
  },
  {
   "cell_type": "code",
   "execution_count": 22,
   "id": "586c2b96-fdba-4f30-ad68-c1f9c771b9fa",
   "metadata": {},
   "outputs": [
    {
     "name": "stdout",
     "output_type": "stream",
     "text": [
      "0     7\n",
      "1    11\n",
      "2    13\n",
      "3    17\n",
      "dtype: int64\n",
      "0    100.0\n",
      "1    100.0\n",
      "2    100.0\n",
      "3    100.0\n",
      "4    100.0\n",
      "dtype: float64\n",
      "count    20.000000\n",
      "mean     49.800000\n",
      "std      31.181303\n",
      "min       1.000000\n",
      "25%      21.750000\n",
      "50%      51.500000\n",
      "75%      76.500000\n",
      "max      99.000000\n",
      "dtype: float64\n",
      "Julie       98.6\n",
      "Charlie     98.9\n",
      "Sam        100.2\n",
      "Andrea      97.9\n",
      "dtype: float64\n",
      "Julie       98.6\n",
      "Charlie     98.9\n",
      "Sam        100.2\n",
      "Andrea      97.9\n",
      "dtype: float64\n"
     ]
    }
   ],
   "source": [
    "import numpy as np\n",
    "a=pd.Series([7,11,13,17])\n",
    "print(a)\n",
    "b=pd.Series(100.0,range(5))\n",
    "print(b)\n",
    "c = pd.Series(np.random.randint(0, 101, size=20))\n",
    "print(c.describe())\n",
    "d=pd.Series([98.6,98.9,100.2,97.9],index=[\"Julie\",\"Charlie\",\"Sam\",\"Andrea\"])\n",
    "print(d)\n",
    "e=pd.Series({\n",
    "    \"Julie\":98.6,\n",
    "    \"Charlie\":98.9,\n",
    "    \"Sam\":100.2,\n",
    "    \"Andrea\":97.9\n",
    "})\n",
    "print(e)"
   ]
  },
  {
   "cell_type": "code",
   "execution_count": 23,
   "id": "86ade98c-7b85-4b12-bd67-59c388b26d1a",
   "metadata": {},
   "outputs": [
    {
     "name": "stdout",
     "output_type": "stream",
     "text": [
      "   Maxine  James  Amanda\n",
      "0    98.9   93.7    93.7\n",
      "1    98.6   98.6    98.6\n",
      "2    91.3  103.4   103.4\n",
      "Morning      98.9\n",
      "Afternoon    98.6\n",
      "Evening      91.3\n",
      "Name: Maxine, dtype: float64\n",
      "Maxine    98.9\n",
      "James     93.7\n",
      "Amanda    93.7\n",
      "Name: Morning, dtype: float64\n",
      "         Maxine  James  Amanda\n",
      "Morning    98.9   93.7    93.7\n",
      "Evening    91.3  103.4   103.4\n",
      "           Amanda  Maxine\n",
      "Morning      93.7    98.9\n",
      "Afternoon    98.6    98.6\n",
      "Evening     103.4    91.3\n",
      "           Amanda  Maxine\n",
      "Morning      93.7    98.9\n",
      "Afternoon    98.6    98.6\n",
      "          Maxine       James      Amanda\n",
      "count   3.000000    3.000000    3.000000\n",
      "mean   96.266667   98.566667   98.566667\n",
      "std     4.303874    4.850086    4.850086\n",
      "min    91.300000   93.700000   93.700000\n",
      "25%    94.950000   96.150000   96.150000\n",
      "50%    98.600000   98.600000   98.600000\n",
      "75%    98.750000  101.000000  101.000000\n",
      "max    98.900000  103.400000  103.400000\n",
      "        Morning  Afternoon  Evening\n",
      "Maxine     98.9       98.6     91.3\n",
      "James      93.7       98.6    103.4\n",
      "Amanda     93.7       98.6    103.4\n",
      "           Amanda  James  Maxine\n",
      "Morning      93.7   93.7    98.9\n",
      "Afternoon    98.6   98.6    98.6\n",
      "Evening     103.4  103.4    91.3\n"
     ]
    }
   ],
   "source": [
    "import pandas as pd\n",
    "\n",
    "a = {\n",
    "    'Maxine': [98.9, 98.6, 91.3],\n",
    "    'James': [93.7, 98.6, 103.4], \n",
    "    'Amanda': [93.7, 98.6, 103.4] \n",
    "}\n",
    "\n",
    "temperatures = pd.DataFrame(a)\n",
    "print(temperatures)\n",
    "temperatures.index=['Morning','Afternoon','Evening']\n",
    "\n",
    "print(temperatures['Maxine'])\n",
    "print(temperatures.loc['Morning'])\n",
    "print(temperatures.loc[['Morning','Evening']])\n",
    "print(temperatures[['Amanda','Maxine']])\n",
    "print(temperatures.loc['Morning':'Afternoon', ['Amanda', 'Maxine']])\n",
    "print(temperatures.describe())\n",
    "print(temperatures.T)\n",
    "sorted=temperatures.sort_index(axis=1)\n",
    "print(sorted)"
   ]
  },
  {
   "cell_type": "code",
   "execution_count": null,
   "id": "57444fc3-6edd-4556-bca0-63abca66be33",
   "metadata": {},
   "outputs": [],
   "source": []
  }
 ],
 "metadata": {
  "kernelspec": {
   "display_name": "Python [conda env:base] *",
   "language": "python",
   "name": "conda-base-py"
  },
  "language_info": {
   "codemirror_mode": {
    "name": "ipython",
    "version": 3
   },
   "file_extension": ".py",
   "mimetype": "text/x-python",
   "name": "python",
   "nbconvert_exporter": "python",
   "pygments_lexer": "ipython3",
   "version": "3.12.7"
  }
 },
 "nbformat": 4,
 "nbformat_minor": 5
}
