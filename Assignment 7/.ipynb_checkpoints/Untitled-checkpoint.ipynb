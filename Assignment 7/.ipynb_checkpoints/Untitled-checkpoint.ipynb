{
 "cells": [
  {
   "cell_type": "code",
   "execution_count": 1,
   "id": "5772c20f-447c-4d26-8312-5fb1ba05de3d",
   "metadata": {},
   "outputs": [
    {
     "name": "stdin",
     "output_type": "stream",
     "text": [
      "Enter a String:  balloons\n"
     ]
    },
    {
     "name": "stdout",
     "output_type": "stream",
     "text": [
      "bal*o*ns\n"
     ]
    }
   ],
   "source": [
    "def replaceString(s):\n",
    "    st = \"\"\n",
    "    for i in range(len(s) - 1):\n",
    "        if s[i]!=\"*\":\n",
    "            st += s[i]\n",
    "        if s[i] == s[i + 1]:\n",
    "            st += '*'\n",
    "            s=s.replace(s[i+1],\"*\")\n",
    "    st += s[-1]\n",
    "    return st\n",
    "\n",
    "s = input(\"Enter a String: \")\n",
    "st = replaceString(s)\n",
    "print(st)\n"
   ]
  },
  {
   "cell_type": "code",
   "execution_count": 2,
   "id": "6eb1406b-ff76-4db5-960e-c1cf7984da4a",
   "metadata": {},
   "outputs": [
    {
     "name": "stdout",
     "output_type": "stream",
     "text": [
      "True\n"
     ]
    }
   ],
   "source": [
    "def areAnagrams(s,t):\n",
    "    if sorted(s)==sorted(t):\n",
    "        return True\n",
    "    return False\n",
    "print(areAnagrams(\"papun\",\"nupap\"))"
   ]
  },
  {
   "cell_type": "code",
   "execution_count": 3,
   "id": "7bf58a75-69c0-4790-bd57-790917f3be6e",
   "metadata": {},
   "outputs": [
    {
     "name": "stdin",
     "output_type": "stream",
     "text": [
      "Enter a sentence: i am papun\n"
     ]
    },
    {
     "name": "stdout",
     "output_type": "stream",
     "text": [
      "number of words in i am papun is 3\n"
     ]
    }
   ],
   "source": [
    "s=input(\"Enter a sentence:\")\n",
    "def number_of_words(s):\n",
    "    s=s.strip()\n",
    "    count=0\n",
    "    for i in s:\n",
    "        if i==\" \":\n",
    "            count+=1\n",
    "    return count+1\n",
    "count=number_of_words(s)\n",
    "print(f\"number of words in {s} is {count}\")\n",
    "    "
   ]
  },
  {
   "cell_type": "code",
   "execution_count": 4,
   "id": "4d09648b-806d-4980-b106-e958d6f595fa",
   "metadata": {},
   "outputs": [
    {
     "name": "stdin",
     "output_type": "stream",
     "text": [
      "input string: papun\n",
      "enter char your want to count occurances of: p\n"
     ]
    },
    {
     "name": "stdout",
     "output_type": "stream",
     "text": [
      "count of p in papun is 2\n"
     ]
    }
   ],
   "source": [
    "s=input(\"input string:\")\n",
    "c=input(\"enter char your want to count occurances of:\")\n",
    "print(f\"count of {c} in {s} is {s.count(c)}\")"
   ]
  },
  {
   "cell_type": "code",
   "execution_count": 5,
   "id": "3d000d12-5e0f-41ba-83da-83d263e6a7ea",
   "metadata": {},
   "outputs": [
    {
     "name": "stdout",
     "output_type": "stream",
     "text": [
      "10\n"
     ]
    }
   ],
   "source": [
    "def lengthoflongword(s):\n",
    "    st = \"\"\n",
    "    l = 0\n",
    "    for i in s:\n",
    "        if i != \" \":\n",
    "            st += i\n",
    "        else:\n",
    "            l = max(l, len(st))\n",
    "            st = \"\"\n",
    "    l = max(l, len(st))\n",
    "    return l\n",
    "\n",
    "longestl = lengthoflongword(\"I am papun and i play basketball\")\n",
    "print(longestl)\n"
   ]
  },
  {
   "cell_type": "code",
   "execution_count": 6,
   "id": "15dbb2fd-13a1-4e8e-a973-bcbd87b6642d",
   "metadata": {},
   "outputs": [
    {
     "name": "stdout",
     "output_type": "stream",
     "text": [
      "pepan\n"
     ]
    }
   ],
   "source": [
    "def replacevowel(s):\n",
    "    diction={\n",
    "        'a':'e',\n",
    "        'e':'i',\n",
    "        'i':'o',\n",
    "        'o':'u',\n",
    "        'u':'a',\n",
    "    }\n",
    "    for i in s:\n",
    "        if diction.get(i):\n",
    "            s=s.replace(i,diction.get(i))\n",
    "    print(s)\n",
    "replacevowel(\"papun\")\n"
   ]
  },
  {
   "cell_type": "code",
   "execution_count": 7,
   "id": "89581b0f-19f0-4875-a138-d53a02f9039a",
   "metadata": {},
   "outputs": [
    {
     "name": "stdout",
     "output_type": "stream",
     "text": [
      "True\n",
      "False\n",
      "True\n"
     ]
    }
   ],
   "source": [
    "def is_rotational_palindrome(s):\n",
    "    char_freq = {}\n",
    "\n",
    "    for char in s:\n",
    "        if char in char_freq:\n",
    "            char_freq[char] += 1\n",
    "        else:\n",
    "            char_freq[char] = 1\n",
    "\n",
    "    odd_count = 0\n",
    "    for count in char_freq.values():\n",
    "        if count % 2 != 0:\n",
    "            odd_count += 1\n",
    "\n",
    "    if odd_count > 1:\n",
    "        return False\n",
    "    return True\n",
    "\n",
    "print(is_rotational_palindrome(\"aabb\"))\n",
    "print(is_rotational_palindrome(\"abc\"))\n",
    "print(is_rotational_palindrome(\"racecar\"))\n"
   ]
  },
  {
   "cell_type": "code",
   "execution_count": 8,
   "id": "3b42305a-6b28-4d90-b1cf-1d1fce093df6",
   "metadata": {},
   "outputs": [
    {
     "name": "stdout",
     "output_type": "stream",
     "text": [
      "True\n",
      "True\n",
      "True\n",
      "True\n",
      "False\n"
     ]
    }
   ],
   "source": [
    "import re\n",
    "\n",
    "def is_valid_url(url):\n",
    "    regex = re.compile(\n",
    "        r'^(https?://)?'                  # optional 'http://' or 'https://'\n",
    "        r'([a-zA-Z0-9-]+\\.)+[a-zA-Z]{2,6}'  # domain name and extension\n",
    "        r'(:\\d+)?'                        # optional port number (e.g., :8080)\n",
    "        r'(/[-a-zA-Z0-9@:%_+~#=]+)*'       # optional path\n",
    "        r'(\\?[;&a-zA-Z0-9%_+~#=-]*)?'      # optional query string\n",
    "        r'(#[-a-zA-Z0-9_+~#=%]*)?$',       # optional fragment\n",
    "        re.IGNORECASE\n",
    "    )\n",
    "    \n",
    "    return re.match(regex, url) is not None\n",
    "\n",
    "# Example usage:\n",
    "print(is_valid_url(\"http://example.com\"))  # True\n",
    "print(is_valid_url(\"https://example.com\")) # True\n",
    "print(is_valid_url(\"example.com\"))         # False (missing scheme)\n",
    "print(is_valid_url(\"http://example.com:8080/path?query=value#fragment\"))  # True\n",
    "print(is_valid_url(\"randomstring\"))        # False\n"
   ]
  },
  {
   "cell_type": "code",
   "execution_count": 9,
   "id": "f08981fb-939f-478e-8c18-44181ed74cf6",
   "metadata": {},
   "outputs": [
    {
     "name": "stdout",
     "output_type": "stream",
     "text": [
      "2 3\n"
     ]
    }
   ],
   "source": [
    "def vowconcount(s):\n",
    "    diction={}\n",
    "    for i in s:\n",
    "        if i in diction:\n",
    "            diction[i]+=1\n",
    "        else:\n",
    "             diction[i]=1\n",
    "    countvow=0\n",
    "    countcon=0\n",
    "    for i,j in diction.items():\n",
    "        if i=='a' or i=='e' or i=='i' or i=='o' or i=='u':\n",
    "            countvow+=j\n",
    "        else:\n",
    "            countcon+=j\n",
    "    print(countvow,countcon)\n",
    "vowconcount(\"papun\")"
   ]
  },
  {
   "cell_type": "code",
   "execution_count": null,
   "id": "0904fe70-db8d-418c-ac92-44a0746f1ad4",
   "metadata": {},
   "outputs": [],
   "source": []
  }
 ],
 "metadata": {
  "kernelspec": {
   "display_name": "Python [conda env:base] *",
   "language": "python",
   "name": "conda-base-py"
  },
  "language_info": {
   "codemirror_mode": {
    "name": "ipython",
    "version": 3
   },
   "file_extension": ".py",
   "mimetype": "text/x-python",
   "name": "python",
   "nbconvert_exporter": "python",
   "pygments_lexer": "ipython3",
   "version": "3.12.7"
  }
 },
 "nbformat": 4,
 "nbformat_minor": 5
}
