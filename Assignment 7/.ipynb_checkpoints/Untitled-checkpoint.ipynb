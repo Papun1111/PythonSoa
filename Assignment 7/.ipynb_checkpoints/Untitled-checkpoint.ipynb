{
 "cells": [
  {
   "cell_type": "code",
   "execution_count": null,
   "id": "499a0293-7a9f-40fe-a61e-7c4c886c876f",
   "metadata": {},
   "outputs": [],
   "source": [
    "def replaceString(s):\n",
    "    st = \"\"\n",
    "    for i in range(len(s) - 1):\n",
    "        if s[i]!=\"*\":\n",
    "            st += s[i]\n",
    "        if s[i] == s[i + 1]:\n",
    "            st += '*'\n",
    "            s=s.replace(s[i+1],\"*\")\n",
    "    st += s[-1]\n",
    "    return st\n",
    "\n",
    "s = input(\"Enter a String: \")\n",
    "st = replaceString(s)\n",
    "print(st)\n"
   ]
  },
  {
   "cell_type": "code",
   "execution_count": 2,
   "id": "6eb1406b-ff76-4db5-960e-c1cf7984da4a",
   "metadata": {},
   "outputs": [
    {
     "name": "stdout",
     "output_type": "stream",
     "text": [
      "True\n"
     ]
    }
   ],
   "source": [
    "def areAnagrams(s,t):\n",
    "    if sorted(s)==sorted(t):\n",
    "        return True\n",
    "    return False\n",
    "print(areAnagrams(\"papun\",\"nupap\"))"
   ]
  },
  {
   "cell_type": "code",
   "execution_count": 3,
   "id": "7bf58a75-69c0-4790-bd57-790917f3be6e",
   "metadata": {},
   "outputs": [
    {
     "name": "stdin",
     "output_type": "stream",
     "text": [
      "Enter a sentence: i am papun\n"
     ]
    },
    {
     "name": "stdout",
     "output_type": "stream",
     "text": [
      "number of words in i am papun is 3\n"
     ]
    }
   ],
   "source": [
    "s=input(\"Enter a sentence:\")\n",
    "def number_of_words(s):\n",
    "    s=s.strip()\n",
    "    count=0\n",
    "    for i in s:\n",
    "        if i==\" \":\n",
    "            count+=1\n",
    "    return count+1\n",
    "count=number_of_words(s)\n",
    "print(f\"number of words in {s} is {count}\")\n",
    "    "
   ]
  },
  {
   "cell_type": "code",
   "execution_count": 4,
   "id": "4d09648b-806d-4980-b106-e958d6f595fa",
   "metadata": {},
   "outputs": [
    {
     "name": "stdin",
     "output_type": "stream",
     "text": [
      "input string: papun\n",
      "enter char your want to count occurances of: p\n"
     ]
    },
    {
     "name": "stdout",
     "output_type": "stream",
     "text": [
      "count of p in papun is 2\n"
     ]
    }
   ],
   "source": [
    "s=input(\"input string:\")\n",
    "c=input(\"enter char your want to count occurances of:\")\n",
    "print(f\"count of {c} in {s} is {s.count(c)}\")"
   ]
  },
  {
   "cell_type": "code",
   "execution_count": 5,
   "id": "3d000d12-5e0f-41ba-83da-83d263e6a7ea",
   "metadata": {},
   "outputs": [
    {
     "name": "stdout",
     "output_type": "stream",
     "text": [
      "10\n"
     ]
    }
   ],
   "source": [
    "def lengthoflongword(s):\n",
    "    st = \"\"\n",
    "    l = 0\n",
    "    for i in s:\n",
    "        if i != \" \":\n",
    "            st += i\n",
    "        else:\n",
    "            l = max(l, len(st))\n",
    "            st = \"\"\n",
    "    l = max(l, len(st))\n",
    "    return l\n",
    "\n",
    "longestl = lengthoflongword(\"I am papun and i play basketball\")\n",
    "print(longestl)\n"
   ]
  },
  {
   "cell_type": "code",
   "execution_count": 6,
   "id": "15dbb2fd-13a1-4e8e-a973-bcbd87b6642d",
   "metadata": {},
   "outputs": [
    {
     "name": "stdout",
     "output_type": "stream",
     "text": [
      "pepan\n"
     ]
    }
   ],
   "source": [
    "def replacevowel(s):\n",
    "    diction={\n",
    "        'a':'e',\n",
    "        'e':'i',\n",
    "        'i':'o',\n",
    "        'o':'u',\n",
    "        'u':'a',\n",
    "    }\n",
    "    for i in s:\n",
    "        if diction.get(i):\n",
    "            s=s.replace(i,diction.get(i))\n",
    "    print(s)\n",
    "replacevowel(\"papun\")\n"
   ]
  },
  {
   "cell_type": "code",
   "execution_count": 7,
   "id": "89581b0f-19f0-4875-a138-d53a02f9039a",
   "metadata": {},
   "outputs": [
    {
     "name": "stdout",
     "output_type": "stream",
     "text": [
      "True\n",
      "False\n",
      "True\n"
     ]
    }
   ],
   "source": [
    "def is_rotational_palindrome(s):\n",
    "    char_freq = {}\n",
    "\n",
    "    for char in s:\n",
    "        if char in char_freq:\n",
    "            char_freq[char] += 1\n",
    "        else:\n",
    "            char_freq[char] = 1\n",
    "\n",
    "    odd_count = 0\n",
    "    for count in char_freq.values():\n",
    "        if count % 2 != 0:\n",
    "            odd_count += 1\n",
    "\n",
    "    if odd_count > 1:\n",
    "        return False\n",
    "    return True\n",
    "\n",
    "print(is_rotational_palindrome(\"aabb\"))\n",
    "print(is_rotational_palindrome(\"abc\"))\n",
    "print(is_rotational_palindrome(\"racecar\"))\n"
   ]
  },
  {
   "cell_type": "code",
   "execution_count": 8,
   "id": "3b42305a-6b28-4d90-b1cf-1d1fce093df6",
   "metadata": {},
   "outputs": [
    {
     "name": "stdout",
     "output_type": "stream",
     "text": [
      "True\n",
      "True\n",
      "True\n",
      "True\n",
      "False\n"
     ]
    }
   ],
   "source": [
    "import re\n",
    "\n",
    "def is_valid_url(url):\n",
    "    regex = re.compile(\n",
    "        r'^(https?://)?'                  # optional 'http://' or 'https://'\n",
    "        r'([a-zA-Z0-9-]+\\.)+[a-zA-Z]{2,6}'  # domain name and extension\n",
    "        r'(:\\d+)?'                        # optional port number (e.g., :8080)\n",
    "        r'(/[-a-zA-Z0-9@:%_+~#=]+)*'       # optional path\n",
    "        r'(\\?[;&a-zA-Z0-9%_+~#=-]*)?'      # optional query string\n",
    "        r'(#[-a-zA-Z0-9_+~#=%]*)?$',       # optional fragment\n",
    "        re.IGNORECASE\n",
    "    )\n",
    "    \n",
    "    return re.match(regex, url) is not None\n",
    "\n",
    "# Example usage:\n",
    "print(is_valid_url(\"http://example.com\"))  # True\n",
    "print(is_valid_url(\"https://example.com\")) # True\n",
    "print(is_valid_url(\"example.com\"))         # False (missing scheme)\n",
    "print(is_valid_url(\"http://example.com:8080/path?query=value#fragment\"))  # True\n",
    "print(is_valid_url(\"randomstring\"))        # False\n"
   ]
  },
  {
   "cell_type": "code",
   "execution_count": 9,
   "id": "f08981fb-939f-478e-8c18-44181ed74cf6",
   "metadata": {},
   "outputs": [
    {
     "name": "stdout",
     "output_type": "stream",
     "text": [
      "2 3\n"
     ]
    }
   ],
   "source": [
    "def vowconcount(s):\n",
    "    diction={}\n",
    "    for i in s:\n",
    "        if i in diction:\n",
    "            diction[i]+=1\n",
    "        else:\n",
    "             diction[i]=1\n",
    "    countvow=0\n",
    "    countcon=0\n",
    "    for i,j in diction.items():\n",
    "        if i=='a' or i=='e' or i=='i' or i=='o' or i=='u':\n",
    "            countvow+=j\n",
    "        else:\n",
    "            countcon+=j\n",
    "    print(countvow,countcon)\n",
    "vowconcount(\"papun\")"
   ]
  },
  {
   "cell_type": "code",
   "execution_count": 10,
   "id": "0904fe70-db8d-418c-ac92-44a0746f1ad4",
   "metadata": {},
   "outputs": [
    {
     "name": "stdin",
     "output_type": "stream",
     "text": [
      "Enter a line of text:  i am papun mohapatra\n"
     ]
    },
    {
     "name": "stdout",
     "output_type": "stream",
     "text": [
      "Reversed tokens:\n",
      "mohapatra\n",
      "papun\n",
      "am\n",
      "i\n"
     ]
    }
   ],
   "source": [
    "text = input(\"Enter a line of text: \")\n",
    "tokens = text.split()\n",
    "reversed_tokens = tokens[::-1]\n",
    "print(\"Reversed tokens:\")\n",
    "for token in reversed_tokens:\n",
    "    print(token)\n"
   ]
  },
  {
   "cell_type": "code",
   "execution_count": 11,
   "id": "4230f1df-9097-4f52-a448-85632cc7cc14",
   "metadata": {
    "scrolled": true
   },
   "outputs": [
    {
     "name": "stdin",
     "output_type": "stream",
     "text": [
      "Enter a line of text:  i want to buy a bed for my bad boys\n"
     ]
    },
    {
     "name": "stdout",
     "output_type": "stream",
     "text": [
      "bed\n",
      "bad\n"
     ]
    }
   ],
   "source": [
    "text = input(\"Enter a line of text: \")\n",
    "tokens = text.split()\n",
    "filtered_words = [word for word in tokens if word.startswith('b') and word.endswith('d')]\n",
    "for word in filtered_words:\n",
    "    print(word)\n"
   ]
  },
  {
   "cell_type": "code",
   "execution_count": null,
   "id": "52bb95fd-7a2a-4161-b6a3-d0fe2f2a0378",
   "metadata": {},
   "outputs": [],
   "source": []
  },
  {
   "cell_type": "code",
   "execution_count": 12,
   "id": "cda84bfd-649b-42ea-8793-310e5ec14c11",
   "metadata": {},
   "outputs": [
    {
     "name": "stdin",
     "output_type": "stream",
     "text": [
      "enter a string: hello  world\n"
     ]
    },
    {
     "data": {
      "text/plain": [
       "'hello world'"
      ]
     },
     "execution_count": 12,
     "metadata": {},
     "output_type": "execute_result"
    }
   ],
   "source": [
    "s=input(\"enter a string:\")\n",
    "arr=s.split('  ')\n",
    "s=(\" \").join(arr)\n",
    "s\n"
   ]
  },
  {
   "cell_type": "code",
   "execution_count": 13,
   "id": "1c0f7952-9d6c-4138-979d-afa48eb9d272",
   "metadata": {},
   "outputs": [
    {
     "name": "stdin",
     "output_type": "stream",
     "text": [
      "enter a string: manas\n"
     ]
    },
    {
     "data": {
      "text/plain": [
       "'namas'"
      ]
     },
     "execution_count": 13,
     "metadata": {},
     "output_type": "execute_result"
    }
   ],
   "source": [
    "s=input('enter a string:')\n",
    "l=len(s)//2\n",
    "mid=s[0:l+1]\n",
    "mid=mid[::-1]\n",
    "newst=mid+s[l+1:]\n",
    "newst"
   ]
  },
  {
   "cell_type": "code",
   "execution_count": 14,
   "id": "33ff2f0a-928d-4261-b627-2096562c7b2b",
   "metadata": {},
   "outputs": [
    {
     "name": "stdout",
     "output_type": "stream",
     "text": [
      "bbb\n",
      "ddd\n"
     ]
    }
   ],
   "source": [
    "def find_substrings_by_frequency(s, frequency):\n",
    "    n = len(s)\n",
    "    result = []\n",
    "    i = 0\n",
    "    \n",
    "    while i < n:\n",
    "        start = i\n",
    "        while i < n and s[start] == s[i]:\n",
    "            i += 1\n",
    "        count = i - start\n",
    "        if count == frequency:\n",
    "            result.append(s[start:i])\n",
    "    \n",
    "    return result\n",
    "\n",
    "\n",
    "input_string = 'aabbbccccddd'\n",
    "desired_frequency = 3\n",
    "substrings = find_substrings_by_frequency(input_string, desired_frequency)\n",
    "\n",
    "for substring in substrings:\n",
    "    print(substring)\n"
   ]
  },
  {
   "cell_type": "code",
   "execution_count": 15,
   "id": "1fb7f39a-8a95-4f1a-a973-37602050cb88",
   "metadata": {},
   "outputs": [
    {
     "name": "stdout",
     "output_type": "stream",
     "text": [
      "ehlo\n"
     ]
    }
   ],
   "source": [
    "def sorted_unique_characters(s):\n",
    "    return ''.join(sorted(set(s)))\n",
    "\n",
    "input_string = \"hello\"\n",
    "result = sorted_unique_characters(input_string)\n",
    "print(result)\n"
   ]
  },
  {
   "cell_type": "markdown",
   "id": "04916476-d2a0-4d0e-8404-98438186ed12",
   "metadata": {},
   "source": [
    "# ques17"
   ]
  },
  {
   "cell_type": "code",
   "execution_count": 16,
   "id": "51d9db57-441c-4b92-8011-c801a3877f61",
   "metadata": {},
   "outputs": [
    {
     "name": "stdout",
     "output_type": "stream",
     "text": [
      "ow now brown c\n"
     ]
    }
   ],
   "source": [
    "s=\"how now brown cow\"\n",
    "print(s[s.find('o'):s.rfind('o')])"
   ]
  },
  {
   "cell_type": "code",
   "execution_count": 17,
   "id": "1f314908-fba6-4c87-87ac-64b25f0ec8de",
   "metadata": {},
   "outputs": [
    {
     "data": {
      "text/plain": [
       "'CW'"
      ]
     },
     "execution_count": 17,
     "metadata": {},
     "output_type": "execute_result"
    }
   ],
   "source": [
    "chr(ord('A') + 2) + chr(ord('Z') - 3)"
   ]
  },
  {
   "cell_type": "code",
   "execution_count": 18,
   "id": "ee91fa5e-4c62-40a8-b4ee-84ec549e39f2",
   "metadata": {},
   "outputs": [
    {
     "ename": "IndexError",
     "evalue": "list index out of range",
     "output_type": "error",
     "traceback": [
      "\u001b[1;31m---------------------------------------------------------------------------\u001b[0m",
      "\u001b[1;31mIndexError\u001b[0m                                Traceback (most recent call last)",
      "Cell \u001b[1;32mIn[18], line 3\u001b[0m\n\u001b[0;32m      1\u001b[0m s \u001b[38;5;241m=\u001b[39m \u001b[38;5;124m'\u001b[39m\u001b[38;5;124mabc123def456ghi789\u001b[39m\u001b[38;5;124m'\u001b[39m\n\u001b[0;32m      2\u001b[0m indices \u001b[38;5;241m=\u001b[39m [i \u001b[38;5;28;01mfor\u001b[39;00m i, c \u001b[38;5;129;01min\u001b[39;00m \u001b[38;5;28menumerate\u001b[39m(s) \u001b[38;5;28;01mif\u001b[39;00m c \u001b[38;5;241m==\u001b[39m \u001b[38;5;124m'\u001b[39m\u001b[38;5;124m'\u001b[39m]\n\u001b[1;32m----> 3\u001b[0m result \u001b[38;5;241m=\u001b[39m s[indices[\u001b[38;5;241m1\u001b[39m]\u001b[38;5;241m+\u001b[39m\u001b[38;5;241m1\u001b[39m:indices[\u001b[38;5;241m2\u001b[39m]] \u001b[38;5;241m+\u001b[39m s[indices[\u001b[38;5;241m4\u001b[39m]\u001b[38;5;241m+\u001b[39m\u001b[38;5;241m1\u001b[39m:]\n\u001b[0;32m      4\u001b[0m \u001b[38;5;28mprint\u001b[39m(result)\n",
      "\u001b[1;31mIndexError\u001b[0m: list index out of range"
     ]
    }
   ],
   "source": [
    "s = 'abc123def456ghi789'\n",
    "indices = [i for i, c in enumerate(s) if c == '']\n",
    "result = s[indices[1]+1:indices[2]] + s[indices[4]+1:]\n",
    "print(result)\n"
   ]
  },
  {
   "cell_type": "code",
   "execution_count": 19,
   "id": "1306ca3b-b31f-43d2-8eb8-9212b0b77a22",
   "metadata": {},
   "outputs": [
    {
     "name": "stdout",
     "output_type": "stream",
     "text": [
      "XYZracadXYZra\n",
      "jgnnq\n",
      "imps\n"
     ]
    }
   ],
   "source": [
    "s = \"abracadabra\"\n",
    "print(s.replace(s[s.find('a'):s.find('r')], 'XYZ'))\n",
    "#e\n",
    "s = 'hello'\n",
    "shift = 2\n",
    "print(''.join(chr((ord(c) - 97 + shift) % 26 + 97) for c in s))\n",
    "#f\n",
    "s = 'mississippi'\n",
    "print(''.join(sorted(set(s))))"
   ]
  },
  {
   "cell_type": "markdown",
   "id": "baa57877-d72a-4a68-be5a-521d870a06d2",
   "metadata": {},
   "source": [
    "# Ques 18"
   ]
  },
  {
   "cell_type": "code",
   "execution_count": null,
   "id": "e2cc24bb-1bf6-4295-99ea-1b4654741ab4",
   "metadata": {},
   "outputs": [],
   "source": []
  }
 ],
 "metadata": {
  "kernelspec": {
   "display_name": "Python 3 (ipykernel)",
   "language": "python",
   "name": "python3"
  },
  "language_info": {
   "codemirror_mode": {
    "name": "ipython",
    "version": 3
   },
   "file_extension": ".py",
   "mimetype": "text/x-python",
   "name": "python",
   "nbconvert_exporter": "python",
   "pygments_lexer": "ipython3",
   "version": "3.12.7"
  }
 },
 "nbformat": 4,
 "nbformat_minor": 5
}
