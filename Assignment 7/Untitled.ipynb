{
 "cells": [
  {
   "cell_type": "code",
   "execution_count": 1,
   "id": "5772c20f-447c-4d26-8312-5fb1ba05de3d",
   "metadata": {},
   "outputs": [
    {
     "name": "stdin",
     "output_type": "stream",
     "text": [
      "Enter a String:  balloon\n"
     ]
    },
    {
     "name": "stdout",
     "output_type": "stream",
     "text": [
      "bal*o*n\n"
     ]
    }
   ],
   "source": [
    "def replaceString(s):\n",
    "    st = \"\"\n",
    "    for i in range(len(s) - 1):\n",
    "        if s[i]!=\"*\":\n",
    "            st += s[i]\n",
    "        if s[i] == s[i + 1]:\n",
    "            st += '*'\n",
    "            s=s.replace(s[i+1],\"*\")\n",
    "    st += s[-1]\n",
    "    return st\n",
    "\n",
    "s = input(\"Enter a String: \")\n",
    "st = replaceString(s)\n",
    "print(st)\n"
   ]
  },
  {
   "cell_type": "code",
   "execution_count": 2,
   "id": "6eb1406b-ff76-4db5-960e-c1cf7984da4a",
   "metadata": {},
   "outputs": [
    {
     "name": "stdout",
     "output_type": "stream",
     "text": [
      "True\n"
     ]
    }
   ],
   "source": [
    "def areAnagrams(s,t):\n",
    "    if sorted(s)==sorted(t):\n",
    "        return True\n",
    "    return False\n",
    "print(areAnagrams(\"papun\",\"nupap\"))"
   ]
  },
  {
   "cell_type": "code",
   "execution_count": 9,
   "id": "7bf58a75-69c0-4790-bd57-790917f3be6e",
   "metadata": {},
   "outputs": [
    {
     "name": "stdin",
     "output_type": "stream",
     "text": [
      "Enter a sentence: i am papun\n"
     ]
    },
    {
     "name": "stdout",
     "output_type": "stream",
     "text": [
      "number of words in i am papun is 3\n"
     ]
    }
   ],
   "source": [
    "s=input(\"Enter a sentence:\")\n",
    "def number_of_words(s):\n",
    "    s=s.strip()\n",
    "    count=0\n",
    "    for i in s:\n",
    "        if i==\" \":\n",
    "            count+=1\n",
    "    return count+1\n",
    "count=number_of_words(s)\n",
    "print(f\"number of words in {s} is {count}\")\n",
    "    "
   ]
  },
  {
   "cell_type": "code",
   "execution_count": 17,
   "id": "3d000d12-5e0f-41ba-83da-83d263e6a7ea",
   "metadata": {},
   "outputs": [
    {
     "name": "stdout",
     "output_type": "stream",
     "text": [
      "10\n"
     ]
    }
   ],
   "source": [
    "def lengthoflongword(s):\n",
    "    st = \"\"\n",
    "    l = 0\n",
    "    for i in s:\n",
    "        if i != \" \":\n",
    "            st += i\n",
    "        else:\n",
    "            l = max(l, len(st))\n",
    "            st = \"\"\n",
    "    l = max(l, len(st))\n",
    "    return l\n",
    "\n",
    "longestl = lengthoflongword(\"I am papun and i play basketball\")\n",
    "print(longestl)\n"
   ]
  },
  {
   "cell_type": "code",
   "execution_count": 21,
   "id": "15dbb2fd-13a1-4e8e-a973-bcbd87b6642d",
   "metadata": {},
   "outputs": [
    {
     "name": "stdout",
     "output_type": "stream",
     "text": [
      "pepan\n"
     ]
    }
   ],
   "source": [
    "def replacevowel(s):\n",
    "    diction={\n",
    "        'a':'e',\n",
    "        'e':'i',\n",
    "        'i':'o',\n",
    "        'o':'u',\n",
    "        'u':'a',\n",
    "    }\n",
    "    for i in s:\n",
    "        if diction.get(i):\n",
    "            s=s.replace(i,diction.get(i))\n",
    "    print(s)\n",
    "replacevowel(\"papun\")\n"
   ]
  },
  {
   "cell_type": "code",
   "execution_count": null,
   "id": "89581b0f-19f0-4875-a138-d53a02f9039a",
   "metadata": {},
   "outputs": [],
   "source": []
  }
 ],
 "metadata": {
  "kernelspec": {
   "display_name": "Python [conda env:base] *",
   "language": "python",
   "name": "conda-base-py"
  },
  "language_info": {
   "codemirror_mode": {
    "name": "ipython",
    "version": 3
   },
   "file_extension": ".py",
   "mimetype": "text/x-python",
   "name": "python",
   "nbconvert_exporter": "python",
   "pygments_lexer": "ipython3",
   "version": "3.12.7"
  }
 },
 "nbformat": 4,
 "nbformat_minor": 5
}
